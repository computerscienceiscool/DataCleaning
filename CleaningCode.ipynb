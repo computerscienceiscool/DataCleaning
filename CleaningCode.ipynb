{
 "cells": [
  {
   "cell_type": "markdown",
   "id": "4bf48877",
   "metadata": {},
   "source": [
    "# Introduction to Data Analytics Code Cleaning Exercise"
   ]
  },
  {
   "cell_type": "markdown",
   "id": "be8d80ec",
   "metadata": {},
   "source": [
    "### In the world of data analytics, cleaning and preprocessing raw data is a crucial step before any meaningful analysis can take place. One common challenge in this process is dealing with missing values, often represented as NaNs. These missing values can adversely affect the accuracy and reliability of any analysis or modeling efforts.\n",
    "\n",
    "### To address this issue, we will explore techniques for handling missing values and imputing appropriate values in Python using the powerful libraries, Matplotlib and Pandas. Matplotlib is a popular data visualization library, while Pandas provides efficient data manipulation tools.\n",
    "\n",
    "### In this code cleaning exercise, we will focus on three key steps: identifying missing values, handling missing values by either removing or imputing them, and validating the effectiveness of our approach. By the end of this exercise, you will have a clean and prepared dataset ready for further analysis or modeling.  This also includes a  little bit of PCA!  \n",
    "\n"
   ]
  },
  {
   "cell_type": "code",
   "execution_count": 1,
   "id": "691e90e0",
   "metadata": {},
   "outputs": [],
   "source": [
    "import numpy as np\n",
    "import pandas as pd \n",
    "from pandas import DataFrame\n",
    "import scipy.stats as stats\n",
    "import matplotlib as plt\n",
    "import missingno as msno\n",
    "import seaborn as sns\n",
    "from sklearn.decomposition import PCA\n",
    "\n"
   ]
  },
  {
   "cell_type": "code",
   "execution_count": 2,
   "id": "6e419b3e",
   "metadata": {},
   "outputs": [],
   "source": [
    "churndata = pd.read_csv('CleanInput.csv')  #dirty data"
   ]
  },
  {
   "cell_type": "code",
   "execution_count": 3,
   "id": "30f56577",
   "metadata": {},
   "outputs": [],
   "source": [
    "churndata.to_csv('TreatedData.csv') #Treated data.  This is updated often in this program, after every major step."
   ]
  },
  {
   "cell_type": "code",
   "execution_count": 4,
   "id": "a2dcd154",
   "metadata": {},
   "outputs": [
    {
     "data": {
      "text/plain": [
       "(10000, 52)"
      ]
     },
     "execution_count": 4,
     "metadata": {},
     "output_type": "execute_result"
    }
   ],
   "source": [
    "churndata.shape"
   ]
  },
  {
   "cell_type": "markdown",
   "id": "fc430c16",
   "metadata": {},
   "source": [
    "## Look for duplicates"
   ]
  },
  {
   "cell_type": "code",
   "execution_count": 5,
   "id": "341cea2f",
   "metadata": {
    "scrolled": true
   },
   "outputs": [
    {
     "name": "stdout",
     "output_type": "stream",
     "text": [
      "<class 'pandas.core.frame.DataFrame'>\n",
      "RangeIndex: 10000 entries, 0 to 9999\n",
      "Data columns (total 52 columns):\n",
      " #   Column                Non-Null Count  Dtype  \n",
      "---  ------                --------------  -----  \n",
      " 0   Unnamed: 0            10000 non-null  int64  \n",
      " 1   CaseOrder             10000 non-null  int64  \n",
      " 2   Customer_id           10000 non-null  object \n",
      " 3   Interaction           10000 non-null  object \n",
      " 4   City                  10000 non-null  object \n",
      " 5   State                 10000 non-null  object \n",
      " 6   County                10000 non-null  object \n",
      " 7   Zip                   10000 non-null  int64  \n",
      " 8   Lat                   10000 non-null  float64\n",
      " 9   Lng                   10000 non-null  float64\n",
      " 10  Population            10000 non-null  int64  \n",
      " 11  Area                  10000 non-null  object \n",
      " 12  Timezone              10000 non-null  object \n",
      " 13  Job                   10000 non-null  object \n",
      " 14  Children              7505 non-null   float64\n",
      " 15  Age                   7525 non-null   float64\n",
      " 16  Education             10000 non-null  object \n",
      " 17  Employment            10000 non-null  object \n",
      " 18  Income                7510 non-null   float64\n",
      " 19  Marital               10000 non-null  object \n",
      " 20  Gender                10000 non-null  object \n",
      " 21  Churn                 10000 non-null  object \n",
      " 22  Outage_sec_perweek    10000 non-null  float64\n",
      " 23  Email                 10000 non-null  int64  \n",
      " 24  Contacts              10000 non-null  int64  \n",
      " 25  Yearly_equip_failure  10000 non-null  int64  \n",
      " 26  Techie                7523 non-null   object \n",
      " 27  Contract              10000 non-null  object \n",
      " 28  Port_modem            10000 non-null  object \n",
      " 29  Tablet                10000 non-null  object \n",
      " 30  InternetService       10000 non-null  object \n",
      " 31  Phone                 8974 non-null   object \n",
      " 32  Multiple              10000 non-null  object \n",
      " 33  OnlineSecurity        10000 non-null  object \n",
      " 34  OnlineBackup          10000 non-null  object \n",
      " 35  DeviceProtection      10000 non-null  object \n",
      " 36  TechSupport           9009 non-null   object \n",
      " 37  StreamingTV           10000 non-null  object \n",
      " 38  StreamingMovies       10000 non-null  object \n",
      " 39  PaperlessBilling      10000 non-null  object \n",
      " 40  PaymentMethod         10000 non-null  object \n",
      " 41  Tenure                9069 non-null   float64\n",
      " 42  MonthlyCharge         10000 non-null  float64\n",
      " 43  Bandwidth_GB_Year     8979 non-null   float64\n",
      " 44  item1                 10000 non-null  int64  \n",
      " 45  item2                 10000 non-null  int64  \n",
      " 46  item3                 10000 non-null  int64  \n",
      " 47  item4                 10000 non-null  int64  \n",
      " 48  item5                 10000 non-null  int64  \n",
      " 49  item6                 10000 non-null  int64  \n",
      " 50  item7                 10000 non-null  int64  \n",
      " 51  item8                 10000 non-null  int64  \n",
      "dtypes: float64(9), int64(15), object(28)\n",
      "memory usage: 4.0+ MB\n"
     ]
    }
   ],
   "source": [
    "churndata.info()"
   ]
  },
  {
   "cell_type": "markdown",
   "id": "0f043f31",
   "metadata": {},
   "source": [
    "## No duplicates found"
   ]
  },
  {
   "cell_type": "code",
   "execution_count": 6,
   "id": "f5216958",
   "metadata": {},
   "outputs": [
    {
     "data": {
      "text/plain": [
       "False    10000\n",
       "dtype: int64"
      ]
     },
     "execution_count": 6,
     "metadata": {},
     "output_type": "execute_result"
    }
   ],
   "source": [
    "churndata.duplicated().value_counts()"
   ]
  },
  {
   "cell_type": "markdown",
   "id": "94dcef1d",
   "metadata": {},
   "source": [
    "## Look for duplicates without the first 2 columns(those are unique)"
   ]
  },
  {
   "cell_type": "code",
   "execution_count": 7,
   "id": "ec883c74",
   "metadata": {},
   "outputs": [
    {
     "data": {
      "text/plain": [
       "False    10000\n",
       "dtype: int64"
      ]
     },
     "execution_count": 7,
     "metadata": {},
     "output_type": "execute_result"
    }
   ],
   "source": [
    "churndata.duplicated().value_counts()"
   ]
  },
  {
   "cell_type": "markdown",
   "id": "60b38917",
   "metadata": {},
   "source": [
    "### There are absolutely NO duplicates\n"
   ]
  },
  {
   "cell_type": "markdown",
   "id": "24cc974f",
   "metadata": {},
   "source": [
    "## Detection of Missing Data"
   ]
  },
  {
   "cell_type": "markdown",
   "id": "8a3598c4",
   "metadata": {},
   "source": [
    "### Data visualization of missing data using missingno"
   ]
  },
  {
   "cell_type": "code",
   "execution_count": 8,
   "id": "51a7dbfd",
   "metadata": {},
   "outputs": [],
   "source": [
    "#msno.matrix(churndata, fontsize=12,labels=True)"
   ]
  },
  {
   "cell_type": "markdown",
   "id": "00af36a9",
   "metadata": {},
   "source": [
    "### Listing of null data in the table"
   ]
  },
  {
   "cell_type": "code",
   "execution_count": 9,
   "id": "5f0d990c",
   "metadata": {
    "scrolled": true
   },
   "outputs": [
    {
     "data": {
      "text/plain": [
       "Unnamed: 0                 0\n",
       "CaseOrder                  0\n",
       "Customer_id                0\n",
       "Interaction                0\n",
       "City                       0\n",
       "State                      0\n",
       "County                     0\n",
       "Zip                        0\n",
       "Lat                        0\n",
       "Lng                        0\n",
       "Population                 0\n",
       "Area                       0\n",
       "Timezone                   0\n",
       "Job                        0\n",
       "Children                2495\n",
       "Age                     2475\n",
       "Education                  0\n",
       "Employment                 0\n",
       "Income                  2490\n",
       "Marital                    0\n",
       "Gender                     0\n",
       "Churn                      0\n",
       "Outage_sec_perweek         0\n",
       "Email                      0\n",
       "Contacts                   0\n",
       "Yearly_equip_failure       0\n",
       "Techie                  2477\n",
       "Contract                   0\n",
       "Port_modem                 0\n",
       "Tablet                     0\n",
       "InternetService            0\n",
       "Phone                   1026\n",
       "Multiple                   0\n",
       "OnlineSecurity             0\n",
       "OnlineBackup               0\n",
       "DeviceProtection           0\n",
       "TechSupport              991\n",
       "StreamingTV                0\n",
       "StreamingMovies            0\n",
       "PaperlessBilling           0\n",
       "PaymentMethod              0\n",
       "Tenure                   931\n",
       "MonthlyCharge              0\n",
       "Bandwidth_GB_Year       1021\n",
       "item1                      0\n",
       "item2                      0\n",
       "item3                      0\n",
       "item4                      0\n",
       "item5                      0\n",
       "item6                      0\n",
       "item7                      0\n",
       "item8                      0\n",
       "dtype: int64"
      ]
     },
     "execution_count": 9,
     "metadata": {},
     "output_type": "execute_result"
    }
   ],
   "source": [
    "churndata.isnull().sum()"
   ]
  },
  {
   "cell_type": "markdown",
   "id": "7cd27587",
   "metadata": {},
   "source": [
    "\n",
    "The two methods of treating missing data are deletion and imputatuion.  "
   ]
  },
  {
   "cell_type": "markdown",
   "id": "4eaa28e2",
   "metadata": {},
   "source": [
    "## Dealing with missing data"
   ]
  },
  {
   "cell_type": "markdown",
   "id": "3398eff8",
   "metadata": {},
   "source": [
    "I created the NULLsubset so that we can specifically look at the data in only the fields with NULL data."
   ]
  },
  {
   "cell_type": "code",
   "execution_count": 10,
   "id": "a7d0eca4",
   "metadata": {},
   "outputs": [],
   "source": [
    "NULLsubset = churndata[[ 'Techie', 'Phone', 'Tenure', 'Bandwidth_GB_Year', 'Children', 'TechSupport', 'Age', 'Income' ]]"
   ]
  },
  {
   "cell_type": "code",
   "execution_count": 11,
   "id": "9cbd2a1f",
   "metadata": {},
   "outputs": [
    {
     "data": {
      "text/plain": [
       "Techie               2477\n",
       "Phone                1026\n",
       "Tenure                931\n",
       "Bandwidth_GB_Year    1021\n",
       "Children             2495\n",
       "TechSupport           991\n",
       "Age                  2475\n",
       "Income               2490\n",
       "dtype: int64"
      ]
     },
     "execution_count": 11,
     "metadata": {},
     "output_type": "execute_result"
    }
   ],
   "source": [
    "NULLsubset.isnull().sum()"
   ]
  },
  {
   "cell_type": "markdown",
   "id": "67c3e7ed",
   "metadata": {},
   "source": [
    "### Histograms of the NULL data "
   ]
  },
  {
   "cell_type": "code",
   "execution_count": 12,
   "id": "b42e9147",
   "metadata": {
    "scrolled": false
   },
   "outputs": [
    {
     "data": {
      "text/plain": [
       "array([[<Axes: title={'center': 'Tenure'}>,\n",
       "        <Axes: title={'center': 'Bandwidth_GB_Year'}>],\n",
       "       [<Axes: title={'center': 'Children'}>,\n",
       "        <Axes: title={'center': 'Age'}>],\n",
       "       [<Axes: title={'center': 'Income'}>, <Axes: >]], dtype=object)"
      ]
     },
     "execution_count": 12,
     "metadata": {},
     "output_type": "execute_result"
    },
    {
     "data": {
      "image/png": "[encoded data removed]",
      "text/plain": [
       "<Figure size 3000x2000 with 6 Axes>"
      ]
     },
     "metadata": {},
     "output_type": "display_data"
    }
   ],
   "source": [
    "NULLsubset.hist(bins = 10, figsize=(30,20))"
   ]
  },
  {
   "cell_type": "code",
   "execution_count": 13,
   "id": "3a2f430b",
   "metadata": {
    "scrolled": true
   },
   "outputs": [
    {
     "data": {
      "text/plain": [
       "<Axes: >"
      ]
     },
     "execution_count": 13,
     "metadata": {},
     "output_type": "execute_result"
    },
    {
     "data": {
      "image/png": "[encoded data removed]",
      "text/plain": [
       "<Figure size 400x200 with 1 Axes>"
      ]
     },
     "metadata": {},
     "output_type": "display_data"
    }
   ],
   "source": [
    "NULLsubset['TechSupport'].hist(bins = 2, figsize=(4,2))"
   ]
  },
  {
   "cell_type": "code",
   "execution_count": 14,
   "id": "4330a979",
   "metadata": {},
   "outputs": [
    {
     "data": {
      "text/plain": [
       "<Axes: >"
      ]
     },
     "execution_count": 14,
     "metadata": {},
     "output_type": "execute_result"
    },
    {
     "data": {
      "image/png": "[encoded data removed]",
      "text/plain": [
       "<Figure size 400x200 with 1 Axes>"
      ]
     },
     "metadata": {},
     "output_type": "display_data"
    }
   ],
   "source": [
    "NULLsubset['Techie'].hist(bins = 2, figsize=(4,2))"
   ]
  },
  {
   "cell_type": "code",
   "execution_count": 15,
   "id": "7efc35f1",
   "metadata": {},
   "outputs": [
    {
     "data": {
      "text/plain": [
       "<Axes: >"
      ]
     },
     "execution_count": 15,
     "metadata": {},
     "output_type": "execute_result"
    },
    {
     "data": {
      "image/png": "[encoded data removed]",
      "text/plain": [
       "<Figure size 400x200 with 1 Axes>"
      ]
     },
     "metadata": {},
     "output_type": "display_data"
    }
   ],
   "source": [
    "NULLsubset['Phone'].hist(bins = 2, figsize=(4,2))"
   ]
  },
  {
   "cell_type": "markdown",
   "id": "30a5e4b0",
   "metadata": {},
   "source": [
    "### Basic information from the columns with NULL data.  The Phone and Techie columns will be dealt with later.  "
   ]
  },
  {
   "cell_type": "code",
   "execution_count": 16,
   "id": "9b666905",
   "metadata": {
    "scrolled": true
   },
   "outputs": [
    {
     "data": {
      "text/html": [
       "<div>\n",
       "<style scoped>\n",
       "    .dataframe tbody tr th:only-of-type {\n",
       "        vertical-align: middle;\n",
       "    }\n",
       "\n",
       "    .dataframe tbody tr th {\n",
       "        vertical-align: top;\n",
       "    }\n",
       "\n",
       "    .dataframe thead th {\n",
       "        text-align: right;\n",
       "    }\n",
       "</style>\n",
       "<table border=\"1\" class=\"dataframe\">\n",
       "  <thead>\n",
       "    <tr style=\"text-align: right;\">\n",
       "      <th></th>\n",
       "      <th>Tenure</th>\n",
       "      <th>Bandwidth_GB_Year</th>\n",
       "      <th>Children</th>\n",
       "      <th>Age</th>\n",
       "      <th>Income</th>\n",
       "    </tr>\n",
       "  </thead>\n",
       "  <tbody>\n",
       "    <tr>\n",
       "      <th>count</th>\n",
       "      <td>9069.000000</td>\n",
       "      <td>8979.000000</td>\n",
       "      <td>7505.000000</td>\n",
       "      <td>7525.000000</td>\n",
       "      <td>7510.000000</td>\n",
       "    </tr>\n",
       "    <tr>\n",
       "      <th>mean</th>\n",
       "      <td>34.498858</td>\n",
       "      <td>3398.842752</td>\n",
       "      <td>2.095936</td>\n",
       "      <td>53.275748</td>\n",
       "      <td>39936.762226</td>\n",
       "    </tr>\n",
       "    <tr>\n",
       "      <th>std</th>\n",
       "      <td>26.438904</td>\n",
       "      <td>2187.396807</td>\n",
       "      <td>2.154758</td>\n",
       "      <td>20.753928</td>\n",
       "      <td>28358.469482</td>\n",
       "    </tr>\n",
       "    <tr>\n",
       "      <th>min</th>\n",
       "      <td>1.000259</td>\n",
       "      <td>155.506715</td>\n",
       "      <td>0.000000</td>\n",
       "      <td>18.000000</td>\n",
       "      <td>740.660000</td>\n",
       "    </tr>\n",
       "    <tr>\n",
       "      <th>25%</th>\n",
       "      <td>7.890442</td>\n",
       "      <td>1234.110529</td>\n",
       "      <td>0.000000</td>\n",
       "      <td>35.000000</td>\n",
       "      <td>19285.522500</td>\n",
       "    </tr>\n",
       "    <tr>\n",
       "      <th>50%</th>\n",
       "      <td>36.196030</td>\n",
       "      <td>3382.424000</td>\n",
       "      <td>1.000000</td>\n",
       "      <td>53.000000</td>\n",
       "      <td>33186.785000</td>\n",
       "    </tr>\n",
       "    <tr>\n",
       "      <th>75%</th>\n",
       "      <td>61.426670</td>\n",
       "      <td>5587.096500</td>\n",
       "      <td>3.000000</td>\n",
       "      <td>71.000000</td>\n",
       "      <td>53472.395000</td>\n",
       "    </tr>\n",
       "    <tr>\n",
       "      <th>max</th>\n",
       "      <td>71.999280</td>\n",
       "      <td>7158.982000</td>\n",
       "      <td>10.000000</td>\n",
       "      <td>89.000000</td>\n",
       "      <td>258900.700000</td>\n",
       "    </tr>\n",
       "  </tbody>\n",
       "</table>\n",
       "</div>"
      ],
      "text/plain": [
       "            Tenure  Bandwidth_GB_Year     Children          Age         Income\n",
       "count  9069.000000        8979.000000  7505.000000  7525.000000    7510.000000\n",
       "mean     34.498858        3398.842752     2.095936    53.275748   39936.762226\n",
       "std      26.438904        2187.396807     2.154758    20.753928   28358.469482\n",
       "min       1.000259         155.506715     0.000000    18.000000     740.660000\n",
       "25%       7.890442        1234.110529     0.000000    35.000000   19285.522500\n",
       "50%      36.196030        3382.424000     1.000000    53.000000   33186.785000\n",
       "75%      61.426670        5587.096500     3.000000    71.000000   53472.395000\n",
       "max      71.999280        7158.982000    10.000000    89.000000  258900.700000"
      ]
     },
     "execution_count": 16,
     "metadata": {},
     "output_type": "execute_result"
    }
   ],
   "source": [
    "NULLsubset.describe()"
   ]
  },
  {
   "cell_type": "code",
   "execution_count": null,
   "id": "15d26a8c",
   "metadata": {},
   "outputs": [],
   "source": []
  },
  {
   "cell_type": "markdown",
   "id": "fb730879",
   "metadata": {},
   "source": [
    "### Overall interpretations of the graphs and treatment preference\n"
   ]
  },
  {
   "cell_type": "markdown",
   "id": "e7c42576",
   "metadata": {},
   "source": [
    "I want to look at the distribution shapes of the seven columns with NULL data and the type of distributuon that each of those graphs has. I will be treating the missing data according to the primary method listed in the lecture based on the inital distribution of the data that contains the missing data.  I will include all of the code and proof that each of the columns with null values were imputed using the prefered treatment method in the sections below.\n",
    "\n",
    "\n",
    "* The Children graph is positively skewed to the right.  The prefered imputation method for the skewed graph is to impute the median value for the NULL values.\n",
    "* The Age graph has a uniform distribution meaning it is equally spread with no peaks. The Mean will be imputed for the missing  values since it is the prefered method of imputation for graphs with a uniform distribution.\n",
    "* The Income graph is positively skewed to the right.  The prefered imputation method for the skewed graph is to impute the median value for the NULL values.\n",
    "* The TechSupport graph shows that it is a yes no option and there are NULL values in addition. The prefered imputation method for cateforical data is to use the Mode value when imputing data for the NULL values.\n",
    "* The Techie graph shows that it is a yes no option and there are NULL values in addition. The prefered imputation method for cateforical data is to use the Mode value when imputing data for the NULL values.\n",
    "* The Phone graph shows that it is a yes no option and there are NULL values in addition.  The prefered imputation method for cateforical data is to use the Mode value when imputing data for the NULL values.\n",
    "* The Tenure graph has a bimodal distribution and is non-symetric. The prefered imputation method for the skewed graph is to impute the median value for the NULL values.\n",
    "* The Bandwidth_GB_Year has a bimodal distribution and is non-symetric.  This graph is a bit more symetric than the Tenure graph.  The prefered imputation method for the skewed graph is to impute the median value for the NULL values.\n",
    "\n",
    "\n",
    "\n"
   ]
  },
  {
   "cell_type": "markdown",
   "id": "df976105",
   "metadata": {},
   "source": [
    "## Treating missing data\n"
   ]
  },
  {
   "cell_type": "markdown",
   "id": "808db3b3",
   "metadata": {},
   "source": [
    "I will be treating the missing data according to the primary method listed in the lecture based on the inital distribution of the data that contains the missing data.  "
   ]
  },
  {
   "cell_type": "markdown",
   "id": "14c117db",
   "metadata": {},
   "source": [
    "### Children imputation\n",
    "The Children graph is positively skewed to the right.  The prefered imputation method for the skewed graph is to impute the median value for the NULL values.\n"
   ]
  },
  {
   "cell_type": "code",
   "execution_count": 17,
   "id": "88dd129d",
   "metadata": {},
   "outputs": [],
   "source": [
    "churndata[\"Children\"].fillna(churndata[\"Children\"].median(), inplace = True)"
   ]
  },
  {
   "cell_type": "markdown",
   "id": "eff55e72",
   "metadata": {},
   "source": [
    "The median number of Children is 1.  After running the histogram, you can see that there is a spike at 1 that shows that all of the NULL values were replaced with 1.0."
   ]
  },
  {
   "cell_type": "code",
   "execution_count": 18,
   "id": "e68b5629",
   "metadata": {},
   "outputs": [
    {
     "name": "stdout",
     "output_type": "stream",
     "text": [
      "1.0\n"
     ]
    }
   ],
   "source": [
    "print(churndata[\"Children\"].median())"
   ]
  },
  {
   "cell_type": "code",
   "execution_count": 19,
   "id": "1c6f57f4",
   "metadata": {
    "scrolled": true
   },
   "outputs": [
    {
     "data": {
      "text/plain": [
       "<Axes: >"
      ]
     },
     "execution_count": 19,
     "metadata": {},
     "output_type": "execute_result"
    },
    {
     "data": {
      "image/png": "[encoded data removed]",
      "text/plain": [
       "<Figure size 640x480 with 1 Axes>"
      ]
     },
     "metadata": {},
     "output_type": "display_data"
    }
   ],
   "source": [
    "churndata['Children'].hist()"
   ]
  },
  {
   "cell_type": "markdown",
   "id": "3fe40b6a",
   "metadata": {},
   "source": [
    "There are no fields in the Children column with NULL values."
   ]
  },
  {
   "cell_type": "code",
   "execution_count": 20,
   "id": "b97f9f6d",
   "metadata": {},
   "outputs": [
    {
     "data": {
      "text/plain": [
       "0"
      ]
     },
     "execution_count": 20,
     "metadata": {},
     "output_type": "execute_result"
    }
   ],
   "source": [
    "churndata['Children'].isnull().sum()"
   ]
  },
  {
   "cell_type": "markdown",
   "id": "3131cd4c",
   "metadata": {},
   "source": [
    "### Age imputation"
   ]
  },
  {
   "cell_type": "markdown",
   "id": "d2bc4136",
   "metadata": {},
   "source": [
    "The Age graph has a uniform distribution meaning it is equally spread with no peaks. The Mean will be imputed for the missing  values since it is the prefered method of imputation for graphs with a uniform distribution.   "
   ]
  },
  {
   "cell_type": "markdown",
   "id": "95bfc4ed",
   "metadata": {},
   "source": [
    "Since the mean of the Age column is 53.27574750830565, that value will be imputed  for all of the places there are NULL value in that column. To do this, I will use the Fillna function."
   ]
  },
  {
   "cell_type": "code",
   "execution_count": 21,
   "id": "75574962",
   "metadata": {
    "scrolled": true
   },
   "outputs": [],
   "source": [
    "churndata[\"Age\"].fillna(churndata[\"Age\"].mean(), inplace = True)"
   ]
  },
  {
   "cell_type": "markdown",
   "id": "8a739d40",
   "metadata": {},
   "source": [
    "After the Age NULL values were filled with the mean values, there is a difference in the graph with a spike at the Mean value."
   ]
  },
  {
   "cell_type": "code",
   "execution_count": 22,
   "id": "acb8737c",
   "metadata": {},
   "outputs": [
    {
     "data": {
      "text/plain": [
       "<Axes: >"
      ]
     },
     "execution_count": 22,
     "metadata": {},
     "output_type": "execute_result"
    },
    {
     "data": {
      "image/png": "[encoded data removed]",
      "text/plain": [
       "<Figure size 640x480 with 1 Axes>"
      ]
     },
     "metadata": {},
     "output_type": "display_data"
    }
   ],
   "source": [
    "churndata['Age'].hist()"
   ]
  },
  {
   "cell_type": "markdown",
   "id": "23a1b7d5",
   "metadata": {},
   "source": [
    "There are no NULL values in the Age column."
   ]
  },
  {
   "cell_type": "code",
   "execution_count": 23,
   "id": "4a2aacdd",
   "metadata": {},
   "outputs": [
    {
     "data": {
      "text/plain": [
       "0"
      ]
     },
     "execution_count": 23,
     "metadata": {},
     "output_type": "execute_result"
    }
   ],
   "source": [
    "churndata['Age'].isnull().sum()"
   ]
  },
  {
   "cell_type": "markdown",
   "id": "0325fc7a",
   "metadata": {},
   "source": [
    "The Mean is still 53.275747508309024."
   ]
  },
  {
   "cell_type": "code",
   "execution_count": 24,
   "id": "50ebf6c5",
   "metadata": {},
   "outputs": [
    {
     "data": {
      "text/plain": [
       "53.27574750830565"
      ]
     },
     "execution_count": 24,
     "metadata": {},
     "output_type": "execute_result"
    }
   ],
   "source": [
    " churndata['Age'].mean()"
   ]
  },
  {
   "cell_type": "markdown",
   "id": "68aaf263",
   "metadata": {},
   "source": [
    "### Income imputation"
   ]
  },
  {
   "cell_type": "markdown",
   "id": "fc6ebd59",
   "metadata": {},
   "source": [
    "The Income graph is positively skewed to the right.  The prefered imputation method for the skewed graph is to impute the median value for the NULL values."
   ]
  },
  {
   "cell_type": "code",
   "execution_count": 25,
   "id": "7cac1bb3",
   "metadata": {
    "scrolled": true
   },
   "outputs": [
    {
     "name": "stdout",
     "output_type": "stream",
     "text": [
      "33186.785\n"
     ]
    }
   ],
   "source": [
    "print(churndata[\"Income\"].median())"
   ]
  },
  {
   "cell_type": "code",
   "execution_count": 26,
   "id": "902d8ec6",
   "metadata": {},
   "outputs": [],
   "source": [
    "churndata[\"Income\"].fillna(churndata[\"Income\"].median(), inplace = True)"
   ]
  },
  {
   "cell_type": "markdown",
   "id": "907fe333",
   "metadata": {},
   "source": [
    "After the imputation, the graph is still positively skewed, but you can see a spike aroud the median value below 50,000 dollars. After imputation, the median is still $33,186.785 "
   ]
  },
  {
   "cell_type": "code",
   "execution_count": 27,
   "id": "b3318aa8",
   "metadata": {},
   "outputs": [
    {
     "data": {
      "text/plain": [
       "<Axes: >"
      ]
     },
     "execution_count": 27,
     "metadata": {},
     "output_type": "execute_result"
    },
    {
     "data": {
      "image/png": "[encoded data removed]",
      "text/plain": [
       "<Figure size 640x480 with 1 Axes>"
      ]
     },
     "metadata": {},
     "output_type": "display_data"
    }
   ],
   "source": [
    "churndata['Income'].hist()"
   ]
  },
  {
   "cell_type": "code",
   "execution_count": 28,
   "id": "2b6bb378",
   "metadata": {},
   "outputs": [
    {
     "name": "stdout",
     "output_type": "stream",
     "text": [
      "33186.785\n"
     ]
    }
   ],
   "source": [
    "print(churndata[\"Income\"].median())"
   ]
  },
  {
   "cell_type": "markdown",
   "id": "6e9c183e",
   "metadata": {},
   "source": [
    "There are no NULL values in the Income column."
   ]
  },
  {
   "cell_type": "code",
   "execution_count": 29,
   "id": "287d1028",
   "metadata": {},
   "outputs": [
    {
     "data": {
      "text/plain": [
       "0"
      ]
     },
     "execution_count": 29,
     "metadata": {},
     "output_type": "execute_result"
    }
   ],
   "source": [
    "churndata['Children'].isnull().sum()"
   ]
  },
  {
   "cell_type": "markdown",
   "id": "3ccc8fd0",
   "metadata": {},
   "source": [
    "### Tenure imputation"
   ]
  },
  {
   "cell_type": "markdown",
   "id": "225f0a56",
   "metadata": {},
   "source": [
    "The Tenure graph has a bimodal distribution and is non-symetric. The prefered imputation method for the skewed graph is to impute the median value for the NULL values.\n"
   ]
  },
  {
   "cell_type": "code",
   "execution_count": 30,
   "id": "3b18f824",
   "metadata": {},
   "outputs": [
    {
     "name": "stdout",
     "output_type": "stream",
     "text": [
      "36.19603\n"
     ]
    }
   ],
   "source": [
    "print(churndata[\"Tenure\"].median())"
   ]
  },
  {
   "cell_type": "code",
   "execution_count": 31,
   "id": "a0e89a61",
   "metadata": {},
   "outputs": [],
   "source": [
    "churndata[\"Tenure\"].fillna(churndata[\"Tenure\"].median(), inplace = True)"
   ]
  },
  {
   "cell_type": "markdown",
   "id": "05dd8dde",
   "metadata": {},
   "source": [
    "After the imputation, the graph still has a bimodal distribuation that is non-symetric, but now there is a spike at the median value.  You can also see that there are now 0 NULL values in the Tenure column."
   ]
  },
  {
   "cell_type": "code",
   "execution_count": 32,
   "id": "bc7512b2",
   "metadata": {},
   "outputs": [
    {
     "data": {
      "text/plain": [
       "<Axes: >"
      ]
     },
     "execution_count": 32,
     "metadata": {},
     "output_type": "execute_result"
    },
    {
     "data": {
      "image/png": "[encoded data removed]",
      "text/plain": [
       "<Figure size 640x480 with 1 Axes>"
      ]
     },
     "metadata": {},
     "output_type": "display_data"
    }
   ],
   "source": [
    "churndata['Tenure'].hist()"
   ]
  },
  {
   "cell_type": "code",
   "execution_count": 33,
   "id": "0bcbf9ad",
   "metadata": {},
   "outputs": [
    {
     "data": {
      "text/plain": [
       "0"
      ]
     },
     "execution_count": 33,
     "metadata": {},
     "output_type": "execute_result"
    }
   ],
   "source": [
    "churndata['Tenure'].isnull().sum()"
   ]
  },
  {
   "cell_type": "markdown",
   "id": "3dff8818",
   "metadata": {},
   "source": [
    "### Bandwidth_GB_Year imputation"
   ]
  },
  {
   "cell_type": "markdown",
   "id": "1ae32990",
   "metadata": {},
   "source": [
    "The Bandwidth_GB_Year has a bimodal distribution and is non-symetric.  This graph is a bit more symetric than the Tenure graph.  The prefered imputation method for the skewed graph is to impute the median value for the NULL values.\n"
   ]
  },
  {
   "cell_type": "code",
   "execution_count": 34,
   "id": "5a59e00b",
   "metadata": {},
   "outputs": [
    {
     "name": "stdout",
     "output_type": "stream",
     "text": [
      "3382.424\n"
     ]
    }
   ],
   "source": [
    "print(churndata[\"Bandwidth_GB_Year\"].median())"
   ]
  },
  {
   "cell_type": "code",
   "execution_count": 35,
   "id": "e9ee289f",
   "metadata": {},
   "outputs": [],
   "source": [
    "churndata[\"Bandwidth_GB_Year\"].fillna(churndata[\"Bandwidth_GB_Year\"].median(), inplace = True)"
   ]
  },
  {
   "cell_type": "code",
   "execution_count": 36,
   "id": "e97e4a7b",
   "metadata": {},
   "outputs": [
    {
     "data": {
      "text/plain": [
       "<Axes: >"
      ]
     },
     "execution_count": 36,
     "metadata": {},
     "output_type": "execute_result"
    },
    {
     "data": {
      "image/png": "[encoded data removed]",
      "text/plain": [
       "<Figure size 640x480 with 1 Axes>"
      ]
     },
     "metadata": {},
     "output_type": "display_data"
    }
   ],
   "source": [
    "churndata['Bandwidth_GB_Year'].hist()"
   ]
  },
  {
   "cell_type": "markdown",
   "id": "56239abd",
   "metadata": {},
   "source": [
    "After the imputation, the graph still has a bimodal distribuation that is non-symetric, but now there is a spike at the median value.  You can also see that there are now 0 NULL values in the Tenure column."
   ]
  },
  {
   "cell_type": "code",
   "execution_count": 37,
   "id": "655ea9f3",
   "metadata": {},
   "outputs": [
    {
     "data": {
      "text/plain": [
       "0"
      ]
     },
     "execution_count": 37,
     "metadata": {},
     "output_type": "execute_result"
    }
   ],
   "source": [
    "churndata['Bandwidth_GB_Year'].isnull().sum()"
   ]
  },
  {
   "cell_type": "markdown",
   "id": "caf66760",
   "metadata": {},
   "source": [
    "## TechSupport imputation"
   ]
  },
  {
   "cell_type": "code",
   "execution_count": 38,
   "id": "6f19ca50",
   "metadata": {},
   "outputs": [
    {
     "name": "stdout",
     "output_type": "stream",
     "text": [
      "0    No\n",
      "Name: TechSupport, dtype: object\n"
     ]
    }
   ],
   "source": [
    "print(churndata['TechSupport'].mode())"
   ]
  },
  {
   "cell_type": "code",
   "execution_count": 39,
   "id": "a5e7e30c",
   "metadata": {},
   "outputs": [],
   "source": [
    "churndata['TechSupport'] = churndata['TechSupport'].fillna(churndata['TechSupport'].mode()[0])"
   ]
  },
  {
   "cell_type": "markdown",
   "id": "688f3504",
   "metadata": {},
   "source": [
    "The TechSupport graph shows that it is a yes/no option and there are no NULL values in after the imputation. The prefered imputation method for categorical data is to use the Mode value when imputing data for the NULL values. \n",
    "\n"
   ]
  },
  {
   "cell_type": "code",
   "execution_count": 40,
   "id": "55d71405",
   "metadata": {},
   "outputs": [
    {
     "data": {
      "text/plain": [
       "<Axes: >"
      ]
     },
     "execution_count": 40,
     "metadata": {},
     "output_type": "execute_result"
    },
    {
     "data": {
      "image/png": "[encoded data removed]",
      "text/plain": [
       "<Figure size 400x200 with 1 Axes>"
      ]
     },
     "metadata": {},
     "output_type": "display_data"
    }
   ],
   "source": [
    "churndata['TechSupport'].hist(bins = 2, figsize=(4,2))"
   ]
  },
  {
   "cell_type": "code",
   "execution_count": 41,
   "id": "cb7a4ff3",
   "metadata": {},
   "outputs": [
    {
     "data": {
      "text/plain": [
       "0"
      ]
     },
     "execution_count": 41,
     "metadata": {},
     "output_type": "execute_result"
    }
   ],
   "source": [
    "churndata['TechSupport'].isnull().sum()"
   ]
  },
  {
   "cell_type": "markdown",
   "id": "220eb791",
   "metadata": {},
   "source": [
    "### Techie imputation"
   ]
  },
  {
   "cell_type": "markdown",
   "id": "742cc07c",
   "metadata": {},
   "source": [
    "The Techie graph shows that it is a yes/no option and there are NULL values in addition. The prefered imputation method for cateforical data is to use the Mode value when imputing data for the NULL values.\n",
    "\n"
   ]
  },
  {
   "cell_type": "code",
   "execution_count": 42,
   "id": "02e30dc2",
   "metadata": {},
   "outputs": [
    {
     "name": "stdout",
     "output_type": "stream",
     "text": [
      "0    No\n",
      "Name: Techie, dtype: object\n"
     ]
    }
   ],
   "source": [
    "print(churndata['Techie'].mode())"
   ]
  },
  {
   "cell_type": "code",
   "execution_count": 43,
   "id": "fd97813b",
   "metadata": {},
   "outputs": [],
   "source": [
    "\n",
    "churndata['Techie'] = churndata['Techie'].fillna(churndata['Techie'].mode()[0])"
   ]
  },
  {
   "cell_type": "markdown",
   "id": "4a4b09c7",
   "metadata": {},
   "source": [
    "After the imputation, the graph still has changed a bit and there are more values at the mode value of 0. You can also see that there are now 0 NULL values in the Techie column."
   ]
  },
  {
   "cell_type": "code",
   "execution_count": 44,
   "id": "9a93ae4c",
   "metadata": {
    "scrolled": true
   },
   "outputs": [
    {
     "data": {
      "text/plain": [
       "<Axes: >"
      ]
     },
     "execution_count": 44,
     "metadata": {},
     "output_type": "execute_result"
    },
    {
     "data": {
      "image/png": "[encoded data removed]",
      "text/plain": [
       "<Figure size 400x200 with 1 Axes>"
      ]
     },
     "metadata": {},
     "output_type": "display_data"
    }
   ],
   "source": [
    "churndata['Techie'].hist(bins = 2, figsize=(4,2))"
   ]
  },
  {
   "cell_type": "code",
   "execution_count": 45,
   "id": "3b6c16cb",
   "metadata": {},
   "outputs": [
    {
     "data": {
      "text/plain": [
       "0"
      ]
     },
     "execution_count": 45,
     "metadata": {},
     "output_type": "execute_result"
    }
   ],
   "source": [
    "churndata['Techie'].isnull().sum()"
   ]
  },
  {
   "cell_type": "markdown",
   "id": "ac582d4a",
   "metadata": {},
   "source": [
    "### Phone imputation"
   ]
  },
  {
   "cell_type": "markdown",
   "id": "1a93215d",
   "metadata": {},
   "source": [
    "The Phone graph shows that it is a yes no option and there are NULL values in addition.  The prefered imputation method for categorical data is to use the Mode value when imputing data for the NULL values.\n"
   ]
  },
  {
   "cell_type": "code",
   "execution_count": 46,
   "id": "0758d392",
   "metadata": {},
   "outputs": [
    {
     "name": "stdout",
     "output_type": "stream",
     "text": [
      "0    Yes\n",
      "Name: Phone, dtype: object\n"
     ]
    }
   ],
   "source": [
    "print(churndata['Phone'].mode())"
   ]
  },
  {
   "cell_type": "code",
   "execution_count": 47,
   "id": "b32509a6",
   "metadata": {},
   "outputs": [],
   "source": [
    "churndata['Phone'] = churndata['Phone'].fillna(churndata['Phone'].mode()[0])"
   ]
  },
  {
   "cell_type": "markdown",
   "id": "81821d79",
   "metadata": {},
   "source": [
    "After the imputation, the graph still has changed a bit and there are more values at the mode value of 0. You can also see that there are now 0 NULL values in the Phone column."
   ]
  },
  {
   "cell_type": "code",
   "execution_count": 48,
   "id": "c6ce8e9f",
   "metadata": {},
   "outputs": [
    {
     "data": {
      "text/plain": [
       "<Axes: >"
      ]
     },
     "execution_count": 48,
     "metadata": {},
     "output_type": "execute_result"
    },
    {
     "data": {
      "image/png": "[encoded data removed]",
      "text/plain": [
       "<Figure size 400x200 with 1 Axes>"
      ]
     },
     "metadata": {},
     "output_type": "display_data"
    }
   ],
   "source": [
    "churndata['Phone'].hist(bins = 2, figsize=(4,2))"
   ]
  },
  {
   "cell_type": "code",
   "execution_count": 49,
   "id": "6b4f03d6",
   "metadata": {},
   "outputs": [
    {
     "data": {
      "text/plain": [
       "0"
      ]
     },
     "execution_count": 49,
     "metadata": {},
     "output_type": "execute_result"
    }
   ],
   "source": [
    "churndata['Phone'].isnull().sum()"
   ]
  },
  {
   "cell_type": "markdown",
   "id": "ef7f4aaa",
   "metadata": {},
   "source": [
    "### All NULL values from each column have been imputed."
   ]
  },
  {
   "cell_type": "code",
   "execution_count": 50,
   "id": "5837c451",
   "metadata": {},
   "outputs": [
    {
     "data": {
      "text/plain": [
       "Unnamed: 0              0\n",
       "CaseOrder               0\n",
       "Customer_id             0\n",
       "Interaction             0\n",
       "City                    0\n",
       "State                   0\n",
       "County                  0\n",
       "Zip                     0\n",
       "Lat                     0\n",
       "Lng                     0\n",
       "Population              0\n",
       "Area                    0\n",
       "Timezone                0\n",
       "Job                     0\n",
       "Children                0\n",
       "Age                     0\n",
       "Education               0\n",
       "Employment              0\n",
       "Income                  0\n",
       "Marital                 0\n",
       "Gender                  0\n",
       "Churn                   0\n",
       "Outage_sec_perweek      0\n",
       "Email                   0\n",
       "Contacts                0\n",
       "Yearly_equip_failure    0\n",
       "Techie                  0\n",
       "Contract                0\n",
       "Port_modem              0\n",
       "Tablet                  0\n",
       "InternetService         0\n",
       "Phone                   0\n",
       "Multiple                0\n",
       "OnlineSecurity          0\n",
       "OnlineBackup            0\n",
       "DeviceProtection        0\n",
       "TechSupport             0\n",
       "StreamingTV             0\n",
       "StreamingMovies         0\n",
       "PaperlessBilling        0\n",
       "PaymentMethod           0\n",
       "Tenure                  0\n",
       "MonthlyCharge           0\n",
       "Bandwidth_GB_Year       0\n",
       "item1                   0\n",
       "item2                   0\n",
       "item3                   0\n",
       "item4                   0\n",
       "item5                   0\n",
       "item6                   0\n",
       "item7                   0\n",
       "item8                   0\n",
       "dtype: int64"
      ]
     },
     "execution_count": 50,
     "metadata": {},
     "output_type": "execute_result"
    }
   ],
   "source": [
    "churndata.isnull().sum()"
   ]
  },
  {
   "cell_type": "markdown",
   "id": "5ed45264",
   "metadata": {},
   "source": [
    "### Update the CSV file with imputed data."
   ]
  },
  {
   "cell_type": "code",
   "execution_count": 51,
   "id": "272f708b",
   "metadata": {},
   "outputs": [],
   "source": [
    "churndata.to_csv('TreatedData.csv')"
   ]
  },
  {
   "cell_type": "markdown",
   "id": "a5726b9f",
   "metadata": {},
   "source": [
    "# Outliers\n"
   ]
  },
  {
   "cell_type": "code",
   "execution_count": 52,
   "id": "2f4c6a85",
   "metadata": {},
   "outputs": [],
   "source": [
    "churndata['Z_Score_Income']=stats.zscore(churndata['Income'])"
   ]
  },
  {
   "cell_type": "code",
   "execution_count": 53,
   "id": "c9702cfa",
   "metadata": {},
   "outputs": [
    {
     "data": {
      "text/plain": [
       "<bound method NDFrame.head of          Income  Z_Score_Income\n",
       "0     28561.990       -0.391731\n",
       "1     21704.770       -0.668828\n",
       "2     33186.785       -0.204845\n",
       "3     18925.230       -0.781148\n",
       "4     40074.190        0.073471\n",
       "...         ...             ...\n",
       "9995  55723.740        0.705863\n",
       "9996  33186.785       -0.204845\n",
       "9997  33186.785       -0.204845\n",
       "9998  16667.580       -0.872379\n",
       "9999  33186.785       -0.204845\n",
       "\n",
       "[10000 rows x 2 columns]>"
      ]
     },
     "execution_count": 53,
     "metadata": {},
     "output_type": "execute_result"
    }
   ],
   "source": [
    "churndata[['Income','Z_Score_Income']].head"
   ]
  },
  {
   "cell_type": "code",
   "execution_count": 54,
   "id": "fe792424",
   "metadata": {},
   "outputs": [
    {
     "data": {
      "text/plain": [
       "<Axes: >"
      ]
     },
     "execution_count": 54,
     "metadata": {},
     "output_type": "execute_result"
    },
    {
     "data": {
      "image/png": "[encoded data removed]",
      "text/plain": [
       "<Figure size 640x480 with 1 Axes>"
      ]
     },
     "metadata": {},
     "output_type": "display_data"
    }
   ],
   "source": [
    "churndata['Z_Score_Income'].hist()\n"
   ]
  },
  {
   "cell_type": "code",
   "execution_count": 55,
   "id": "97d5af62",
   "metadata": {},
   "outputs": [
    {
     "data": {
      "image/png": "[encoded data removed]",
      "text/plain": [
       "<Figure size 640x480 with 1 Axes>"
      ]
     },
     "metadata": {},
     "output_type": "display_data"
    }
   ],
   "source": [
    "import seaborn\n",
    "boxplot=seaborn.boxplot(x='Income',data=churndata)"
   ]
  },
  {
   "cell_type": "code",
   "execution_count": 56,
   "id": "b1e3c115",
   "metadata": {},
   "outputs": [
    {
     "data": {
      "image/png": "[encoded data removed]",
      "text/plain": [
       "<Figure size 640x480 with 1 Axes>"
      ]
     },
     "metadata": {},
     "output_type": "display_data"
    }
   ],
   "source": [
    "boxplot=seaborn.boxplot(x='Outage_sec_perweek',data=churndata)"
   ]
  },
  {
   "cell_type": "code",
   "execution_count": 57,
   "id": "d7615c6c",
   "metadata": {},
   "outputs": [
    {
     "data": {
      "text/plain": [
       "<Axes: >"
      ]
     },
     "execution_count": 57,
     "metadata": {},
     "output_type": "execute_result"
    },
    {
     "data": {
      "image/png": "[encoded data removed]",
      "text/plain": [
       "<Figure size 640x480 with 1 Axes>"
      ]
     },
     "metadata": {},
     "output_type": "display_data"
    }
   ],
   "source": [
    " churndata.boxplot()"
   ]
  },
  {
   "cell_type": "code",
   "execution_count": 58,
   "id": "baf99c2e",
   "metadata": {},
   "outputs": [
    {
     "data": {
      "text/plain": [
       "<Axes: >"
      ]
     },
     "execution_count": 58,
     "metadata": {},
     "output_type": "execute_result"
    },
    {
     "data": {
      "image/png": "[encoded data removed]",
      "text/plain": [
       "<Figure size 640x480 with 1 Axes>"
      ]
     },
     "metadata": {},
     "output_type": "display_data"
    }
   ],
   "source": [
    "  churndata.boxplot( )"
   ]
  },
  {
   "cell_type": "markdown",
   "id": "dc258fc9",
   "metadata": {},
   "source": [
    "# D4. Mitigating Anomalies"
   ]
  },
  {
   "cell_type": "code",
   "execution_count": 59,
   "id": "96eec85b",
   "metadata": {},
   "outputs": [
    {
     "name": "stdout",
     "output_type": "stream",
     "text": [
      "<class 'pandas.core.frame.DataFrame'>\n",
      "RangeIndex: 10000 entries, 0 to 9999\n",
      "Data columns (total 53 columns):\n",
      " #   Column                Non-Null Count  Dtype  \n",
      "---  ------                --------------  -----  \n",
      " 0   Unnamed: 0            10000 non-null  int64  \n",
      " 1   CaseOrder             10000 non-null  int64  \n",
      " 2   Customer_id           10000 non-null  object \n",
      " 3   Interaction           10000 non-null  object \n",
      " 4   City                  10000 non-null  object \n",
      " 5   State                 10000 non-null  object \n",
      " 6   County                10000 non-null  object \n",
      " 7   Zip                   10000 non-null  int64  \n",
      " 8   Lat                   10000 non-null  float64\n",
      " 9   Lng                   10000 non-null  float64\n",
      " 10  Population            10000 non-null  int64  \n",
      " 11  Area                  10000 non-null  object \n",
      " 12  Timezone              10000 non-null  object \n",
      " 13  Job                   10000 non-null  object \n",
      " 14  Children              10000 non-null  float64\n",
      " 15  Age                   10000 non-null  float64\n",
      " 16  Education             10000 non-null  object \n",
      " 17  Employment            10000 non-null  object \n",
      " 18  Income                10000 non-null  float64\n",
      " 19  Marital               10000 non-null  object \n",
      " 20  Gender                10000 non-null  object \n",
      " 21  Churn                 10000 non-null  object \n",
      " 22  Outage_sec_perweek    10000 non-null  float64\n",
      " 23  Email                 10000 non-null  int64  \n",
      " 24  Contacts              10000 non-null  int64  \n",
      " 25  Yearly_equip_failure  10000 non-null  int64  \n",
      " 26  Techie                10000 non-null  object \n",
      " 27  Contract              10000 non-null  object \n",
      " 28  Port_modem            10000 non-null  object \n",
      " 29  Tablet                10000 non-null  object \n",
      " 30  InternetService       10000 non-null  object \n",
      " 31  Phone                 10000 non-null  object \n",
      " 32  Multiple              10000 non-null  object \n",
      " 33  OnlineSecurity        10000 non-null  object \n",
      " 34  OnlineBackup          10000 non-null  object \n",
      " 35  DeviceProtection      10000 non-null  object \n",
      " 36  TechSupport           10000 non-null  object \n",
      " 37  StreamingTV           10000 non-null  object \n",
      " 38  StreamingMovies       10000 non-null  object \n",
      " 39  PaperlessBilling      10000 non-null  object \n",
      " 40  PaymentMethod         10000 non-null  object \n",
      " 41  Tenure                10000 non-null  float64\n",
      " 42  MonthlyCharge         10000 non-null  float64\n",
      " 43  Bandwidth_GB_Year     10000 non-null  float64\n",
      " 44  item1                 10000 non-null  int64  \n",
      " 45  item2                 10000 non-null  int64  \n",
      " 46  item3                 10000 non-null  int64  \n",
      " 47  item4                 10000 non-null  int64  \n",
      " 48  item5                 10000 non-null  int64  \n",
      " 49  item6                 10000 non-null  int64  \n",
      " 50  item7                 10000 non-null  int64  \n",
      " 51  item8                 10000 non-null  int64  \n",
      " 52  Z_Score_Income        10000 non-null  float64\n",
      "dtypes: float64(10), int64(15), object(28)\n",
      "memory usage: 4.0+ MB\n"
     ]
    }
   ],
   "source": [
    "churndata.info()"
   ]
  },
  {
   "cell_type": "markdown",
   "id": "02c1cd79",
   "metadata": {},
   "source": []
  },
  {
   "cell_type": "markdown",
   "id": "2b4e2782",
   "metadata": {},
   "source": [
    " ## Code to change the column names of items1 through items8"
   ]
  },
  {
   "cell_type": "code",
   "execution_count": 60,
   "id": "9550c4b4",
   "metadata": {},
   "outputs": [],
   "source": [
    "churndata.rename(columns={'item1':'TimelyResponse'}, inplace=True)"
   ]
  },
  {
   "cell_type": "code",
   "execution_count": 61,
   "id": "8ce1a6a9",
   "metadata": {},
   "outputs": [],
   "source": [
    "churndata.rename(columns={'item2':'TimelyFixes'}, inplace=True)"
   ]
  },
  {
   "cell_type": "code",
   "execution_count": 62,
   "id": "f10880c8",
   "metadata": {},
   "outputs": [],
   "source": [
    "churndata.rename(columns={'item3':'TimelyReplacements'}, inplace=True)"
   ]
  },
  {
   "cell_type": "code",
   "execution_count": 63,
   "id": "917e5be4",
   "metadata": {},
   "outputs": [],
   "source": [
    "churndata.rename(columns={'item4':'Reliability'}, inplace=True)"
   ]
  },
  {
   "cell_type": "code",
   "execution_count": 64,
   "id": "f19334f9",
   "metadata": {},
   "outputs": [],
   "source": [
    "churndata.rename(columns={'item5':'Options'}, inplace=True)"
   ]
  },
  {
   "cell_type": "code",
   "execution_count": 65,
   "id": "05224ba3",
   "metadata": {},
   "outputs": [],
   "source": [
    "churndata.rename(columns={'item6':'TimelyFixes'}, inplace=True)"
   ]
  },
  {
   "cell_type": "code",
   "execution_count": 66,
   "id": "c12e3c7f",
   "metadata": {},
   "outputs": [],
   "source": [
    "churndata.rename(columns={'item7':'CourteousExchange'}, inplace=True)"
   ]
  },
  {
   "cell_type": "code",
   "execution_count": 67,
   "id": "61ffe085",
   "metadata": {},
   "outputs": [],
   "source": [
    "churndata.rename(columns={'item8':'ActiveListening'}, inplace=True)"
   ]
  },
  {
   "cell_type": "markdown",
   "id": "56748407",
   "metadata": {},
   "source": [
    "The column names were changed."
   ]
  },
  {
   "cell_type": "code",
   "execution_count": 68,
   "id": "4afad1ce",
   "metadata": {
    "scrolled": true
   },
   "outputs": [
    {
     "name": "stdout",
     "output_type": "stream",
     "text": [
      "<class 'pandas.core.frame.DataFrame'>\n",
      "RangeIndex: 10000 entries, 0 to 9999\n",
      "Data columns (total 53 columns):\n",
      " #   Column                Non-Null Count  Dtype  \n",
      "---  ------                --------------  -----  \n",
      " 0   Unnamed: 0            10000 non-null  int64  \n",
      " 1   CaseOrder             10000 non-null  int64  \n",
      " 2   Customer_id           10000 non-null  object \n",
      " 3   Interaction           10000 non-null  object \n",
      " 4   City                  10000 non-null  object \n",
      " 5   State                 10000 non-null  object \n",
      " 6   County                10000 non-null  object \n",
      " 7   Zip                   10000 non-null  int64  \n",
      " 8   Lat                   10000 non-null  float64\n",
      " 9   Lng                   10000 non-null  float64\n",
      " 10  Population            10000 non-null  int64  \n",
      " 11  Area                  10000 non-null  object \n",
      " 12  Timezone              10000 non-null  object \n",
      " 13  Job                   10000 non-null  object \n",
      " 14  Children              10000 non-null  float64\n",
      " 15  Age                   10000 non-null  float64\n",
      " 16  Education             10000 non-null  object \n",
      " 17  Employment            10000 non-null  object \n",
      " 18  Income                10000 non-null  float64\n",
      " 19  Marital               10000 non-null  object \n",
      " 20  Gender                10000 non-null  object \n",
      " 21  Churn                 10000 non-null  object \n",
      " 22  Outage_sec_perweek    10000 non-null  float64\n",
      " 23  Email                 10000 non-null  int64  \n",
      " 24  Contacts              10000 non-null  int64  \n",
      " 25  Yearly_equip_failure  10000 non-null  int64  \n",
      " 26  Techie                10000 non-null  object \n",
      " 27  Contract              10000 non-null  object \n",
      " 28  Port_modem            10000 non-null  object \n",
      " 29  Tablet                10000 non-null  object \n",
      " 30  InternetService       10000 non-null  object \n",
      " 31  Phone                 10000 non-null  object \n",
      " 32  Multiple              10000 non-null  object \n",
      " 33  OnlineSecurity        10000 non-null  object \n",
      " 34  OnlineBackup          10000 non-null  object \n",
      " 35  DeviceProtection      10000 non-null  object \n",
      " 36  TechSupport           10000 non-null  object \n",
      " 37  StreamingTV           10000 non-null  object \n",
      " 38  StreamingMovies       10000 non-null  object \n",
      " 39  PaperlessBilling      10000 non-null  object \n",
      " 40  PaymentMethod         10000 non-null  object \n",
      " 41  Tenure                10000 non-null  float64\n",
      " 42  MonthlyCharge         10000 non-null  float64\n",
      " 43  Bandwidth_GB_Year     10000 non-null  float64\n",
      " 44  TimelyResponse        10000 non-null  int64  \n",
      " 45  TimelyFixes           10000 non-null  int64  \n",
      " 46  TimelyReplacements    10000 non-null  int64  \n",
      " 47  Reliability           10000 non-null  int64  \n",
      " 48  Options               10000 non-null  int64  \n",
      " 49  TimelyFixes           10000 non-null  int64  \n",
      " 50  CourteousExchange     10000 non-null  int64  \n",
      " 51  ActiveListening       10000 non-null  int64  \n",
      " 52  Z_Score_Income        10000 non-null  float64\n",
      "dtypes: float64(10), int64(15), object(28)\n",
      "memory usage: 4.0+ MB\n"
     ]
    }
   ],
   "source": [
    "churndata.info()"
   ]
  },
  {
   "cell_type": "markdown",
   "id": "94f16265",
   "metadata": {},
   "source": [
    "### Update the CSV file to include column name changes"
   ]
  },
  {
   "cell_type": "code",
   "execution_count": 69,
   "id": "0f25bced",
   "metadata": {},
   "outputs": [],
   "source": [
    "churndata.to_csv('TreatedData.csv')"
   ]
  },
  {
   "cell_type": "markdown",
   "id": "41768706",
   "metadata": {},
   "source": [
    "## Make Customer_id the index for the table."
   ]
  },
  {
   "cell_type": "code",
   "execution_count": 70,
   "id": "53672954",
   "metadata": {},
   "outputs": [
    {
     "data": {
      "text/html": [
       "<div>\n",
       "<style scoped>\n",
       "    .dataframe tbody tr th:only-of-type {\n",
       "        vertical-align: middle;\n",
       "    }\n",
       "\n",
       "    .dataframe tbody tr th {\n",
       "        vertical-align: top;\n",
       "    }\n",
       "\n",
       "    .dataframe thead th {\n",
       "        text-align: right;\n",
       "    }\n",
       "</style>\n",
       "<table border=\"1\" class=\"dataframe\">\n",
       "  <thead>\n",
       "    <tr style=\"text-align: right;\">\n",
       "      <th></th>\n",
       "      <th>Unnamed: 0</th>\n",
       "      <th>CaseOrder</th>\n",
       "      <th>Interaction</th>\n",
       "      <th>City</th>\n",
       "      <th>State</th>\n",
       "      <th>County</th>\n",
       "      <th>Zip</th>\n",
       "      <th>Lat</th>\n",
       "      <th>Lng</th>\n",
       "      <th>Population</th>\n",
       "      <th>...</th>\n",
       "      <th>Bandwidth_GB_Year</th>\n",
       "      <th>TimelyResponse</th>\n",
       "      <th>TimelyFixes</th>\n",
       "      <th>TimelyReplacements</th>\n",
       "      <th>Reliability</th>\n",
       "      <th>Options</th>\n",
       "      <th>TimelyFixes</th>\n",
       "      <th>CourteousExchange</th>\n",
       "      <th>ActiveListening</th>\n",
       "      <th>Z_Score_Income</th>\n",
       "    </tr>\n",
       "    <tr>\n",
       "      <th>Customer_id</th>\n",
       "      <th></th>\n",
       "      <th></th>\n",
       "      <th></th>\n",
       "      <th></th>\n",
       "      <th></th>\n",
       "      <th></th>\n",
       "      <th></th>\n",
       "      <th></th>\n",
       "      <th></th>\n",
       "      <th></th>\n",
       "      <th></th>\n",
       "      <th></th>\n",
       "      <th></th>\n",
       "      <th></th>\n",
       "      <th></th>\n",
       "      <th></th>\n",
       "      <th></th>\n",
       "      <th></th>\n",
       "      <th></th>\n",
       "      <th></th>\n",
       "      <th></th>\n",
       "    </tr>\n",
       "  </thead>\n",
       "  <tbody>\n",
       "    <tr>\n",
       "      <th>K409198</th>\n",
       "      <td>1</td>\n",
       "      <td>1</td>\n",
       "      <td>aa90260b-4141-4a24-8e36-b04ce1f4f77b</td>\n",
       "      <td>Point Baker</td>\n",
       "      <td>AK</td>\n",
       "      <td>Prince of Wales-Hyder</td>\n",
       "      <td>99927</td>\n",
       "      <td>56.25100</td>\n",
       "      <td>-133.37571</td>\n",
       "      <td>38</td>\n",
       "      <td>...</td>\n",
       "      <td>904.536110</td>\n",
       "      <td>5</td>\n",
       "      <td>5</td>\n",
       "      <td>5</td>\n",
       "      <td>3</td>\n",
       "      <td>4</td>\n",
       "      <td>4</td>\n",
       "      <td>3</td>\n",
       "      <td>4</td>\n",
       "      <td>-0.391731</td>\n",
       "    </tr>\n",
       "    <tr>\n",
       "      <th>S120509</th>\n",
       "      <td>2</td>\n",
       "      <td>2</td>\n",
       "      <td>fb76459f-c047-4a9d-8af9-e0f7d4ac2524</td>\n",
       "      <td>West Branch</td>\n",
       "      <td>MI</td>\n",
       "      <td>Ogemaw</td>\n",
       "      <td>48661</td>\n",
       "      <td>44.32893</td>\n",
       "      <td>-84.24080</td>\n",
       "      <td>10446</td>\n",
       "      <td>...</td>\n",
       "      <td>800.982766</td>\n",
       "      <td>3</td>\n",
       "      <td>4</td>\n",
       "      <td>3</td>\n",
       "      <td>3</td>\n",
       "      <td>4</td>\n",
       "      <td>3</td>\n",
       "      <td>4</td>\n",
       "      <td>4</td>\n",
       "      <td>-0.668828</td>\n",
       "    </tr>\n",
       "    <tr>\n",
       "      <th>K191035</th>\n",
       "      <td>3</td>\n",
       "      <td>3</td>\n",
       "      <td>344d114c-3736-4be5-98f7-c72c281e2d35</td>\n",
       "      <td>Yamhill</td>\n",
       "      <td>OR</td>\n",
       "      <td>Yamhill</td>\n",
       "      <td>97148</td>\n",
       "      <td>45.35589</td>\n",
       "      <td>-123.24657</td>\n",
       "      <td>3735</td>\n",
       "      <td>...</td>\n",
       "      <td>2054.706961</td>\n",
       "      <td>4</td>\n",
       "      <td>4</td>\n",
       "      <td>2</td>\n",
       "      <td>4</td>\n",
       "      <td>4</td>\n",
       "      <td>3</td>\n",
       "      <td>3</td>\n",
       "      <td>3</td>\n",
       "      <td>-0.204845</td>\n",
       "    </tr>\n",
       "    <tr>\n",
       "      <th>D90850</th>\n",
       "      <td>4</td>\n",
       "      <td>4</td>\n",
       "      <td>abfa2b40-2d43-4994-b15a-989b8c79e311</td>\n",
       "      <td>Del Mar</td>\n",
       "      <td>CA</td>\n",
       "      <td>San Diego</td>\n",
       "      <td>92014</td>\n",
       "      <td>32.96687</td>\n",
       "      <td>-117.24798</td>\n",
       "      <td>13863</td>\n",
       "      <td>...</td>\n",
       "      <td>2164.579412</td>\n",
       "      <td>4</td>\n",
       "      <td>4</td>\n",
       "      <td>4</td>\n",
       "      <td>2</td>\n",
       "      <td>5</td>\n",
       "      <td>4</td>\n",
       "      <td>3</td>\n",
       "      <td>3</td>\n",
       "      <td>-0.781148</td>\n",
       "    </tr>\n",
       "    <tr>\n",
       "      <th>K662701</th>\n",
       "      <td>5</td>\n",
       "      <td>5</td>\n",
       "      <td>68a861fd-0d20-4e51-a587-8a90407ee574</td>\n",
       "      <td>Needville</td>\n",
       "      <td>TX</td>\n",
       "      <td>Fort Bend</td>\n",
       "      <td>77461</td>\n",
       "      <td>29.38012</td>\n",
       "      <td>-95.80673</td>\n",
       "      <td>11352</td>\n",
       "      <td>...</td>\n",
       "      <td>271.493436</td>\n",
       "      <td>4</td>\n",
       "      <td>4</td>\n",
       "      <td>4</td>\n",
       "      <td>3</td>\n",
       "      <td>4</td>\n",
       "      <td>4</td>\n",
       "      <td>4</td>\n",
       "      <td>5</td>\n",
       "      <td>0.073471</td>\n",
       "    </tr>\n",
       "    <tr>\n",
       "      <th>...</th>\n",
       "      <td>...</td>\n",
       "      <td>...</td>\n",
       "      <td>...</td>\n",
       "      <td>...</td>\n",
       "      <td>...</td>\n",
       "      <td>...</td>\n",
       "      <td>...</td>\n",
       "      <td>...</td>\n",
       "      <td>...</td>\n",
       "      <td>...</td>\n",
       "      <td>...</td>\n",
       "      <td>...</td>\n",
       "      <td>...</td>\n",
       "      <td>...</td>\n",
       "      <td>...</td>\n",
       "      <td>...</td>\n",
       "      <td>...</td>\n",
       "      <td>...</td>\n",
       "      <td>...</td>\n",
       "      <td>...</td>\n",
       "      <td>...</td>\n",
       "    </tr>\n",
       "    <tr>\n",
       "      <th>M324793</th>\n",
       "      <td>9996</td>\n",
       "      <td>9996</td>\n",
       "      <td>45deb5a2-ae04-4518-bf0b-c82db8dbe4a4</td>\n",
       "      <td>Mount Holly</td>\n",
       "      <td>VT</td>\n",
       "      <td>Rutland</td>\n",
       "      <td>5758</td>\n",
       "      <td>43.43391</td>\n",
       "      <td>-72.78734</td>\n",
       "      <td>640</td>\n",
       "      <td>...</td>\n",
       "      <td>6511.253000</td>\n",
       "      <td>3</td>\n",
       "      <td>2</td>\n",
       "      <td>3</td>\n",
       "      <td>3</td>\n",
       "      <td>4</td>\n",
       "      <td>3</td>\n",
       "      <td>2</td>\n",
       "      <td>3</td>\n",
       "      <td>0.705863</td>\n",
       "    </tr>\n",
       "    <tr>\n",
       "      <th>D861732</th>\n",
       "      <td>9997</td>\n",
       "      <td>9997</td>\n",
       "      <td>6e96b921-0c09-4993-bbda-a1ac6411061a</td>\n",
       "      <td>Clarksville</td>\n",
       "      <td>TN</td>\n",
       "      <td>Montgomery</td>\n",
       "      <td>37042</td>\n",
       "      <td>36.56907</td>\n",
       "      <td>-87.41694</td>\n",
       "      <td>77168</td>\n",
       "      <td>...</td>\n",
       "      <td>5695.952000</td>\n",
       "      <td>4</td>\n",
       "      <td>5</td>\n",
       "      <td>5</td>\n",
       "      <td>4</td>\n",
       "      <td>4</td>\n",
       "      <td>5</td>\n",
       "      <td>2</td>\n",
       "      <td>5</td>\n",
       "      <td>-0.204845</td>\n",
       "    </tr>\n",
       "    <tr>\n",
       "      <th>I243405</th>\n",
       "      <td>9998</td>\n",
       "      <td>9998</td>\n",
       "      <td>e8307ddf-9a01-4fff-bc59-4742e03fd24f</td>\n",
       "      <td>Mobeetie</td>\n",
       "      <td>TX</td>\n",
       "      <td>Wheeler</td>\n",
       "      <td>79061</td>\n",
       "      <td>35.52039</td>\n",
       "      <td>-100.44180</td>\n",
       "      <td>406</td>\n",
       "      <td>...</td>\n",
       "      <td>4159.306000</td>\n",
       "      <td>4</td>\n",
       "      <td>4</td>\n",
       "      <td>4</td>\n",
       "      <td>4</td>\n",
       "      <td>4</td>\n",
       "      <td>4</td>\n",
       "      <td>4</td>\n",
       "      <td>5</td>\n",
       "      <td>-0.204845</td>\n",
       "    </tr>\n",
       "    <tr>\n",
       "      <th>I641617</th>\n",
       "      <td>9999</td>\n",
       "      <td>9999</td>\n",
       "      <td>3775ccfc-0052-4107-81ae-9657f81ecdf3</td>\n",
       "      <td>Carrollton</td>\n",
       "      <td>GA</td>\n",
       "      <td>Carroll</td>\n",
       "      <td>30117</td>\n",
       "      <td>33.58016</td>\n",
       "      <td>-85.13241</td>\n",
       "      <td>35575</td>\n",
       "      <td>...</td>\n",
       "      <td>6468.457000</td>\n",
       "      <td>4</td>\n",
       "      <td>4</td>\n",
       "      <td>6</td>\n",
       "      <td>4</td>\n",
       "      <td>3</td>\n",
       "      <td>3</td>\n",
       "      <td>5</td>\n",
       "      <td>4</td>\n",
       "      <td>-0.872379</td>\n",
       "    </tr>\n",
       "    <tr>\n",
       "      <th>T38070</th>\n",
       "      <td>10000</td>\n",
       "      <td>10000</td>\n",
       "      <td>9de5fb6e-bd33-4995-aec8-f01d0172a499</td>\n",
       "      <td>Clarkesville</td>\n",
       "      <td>GA</td>\n",
       "      <td>Habersham</td>\n",
       "      <td>30523</td>\n",
       "      <td>34.70783</td>\n",
       "      <td>-83.53648</td>\n",
       "      <td>12230</td>\n",
       "      <td>...</td>\n",
       "      <td>5857.586000</td>\n",
       "      <td>2</td>\n",
       "      <td>2</td>\n",
       "      <td>3</td>\n",
       "      <td>3</td>\n",
       "      <td>3</td>\n",
       "      <td>3</td>\n",
       "      <td>4</td>\n",
       "      <td>1</td>\n",
       "      <td>-0.204845</td>\n",
       "    </tr>\n",
       "  </tbody>\n",
       "</table>\n",
       "<p>10000 rows × 52 columns</p>\n",
       "</div>"
      ],
      "text/plain": [
       "             Unnamed: 0  CaseOrder                           Interaction  \\\n",
       "Customer_id                                                                \n",
       "K409198               1          1  aa90260b-4141-4a24-8e36-b04ce1f4f77b   \n",
       "S120509               2          2  fb76459f-c047-4a9d-8af9-e0f7d4ac2524   \n",
       "K191035               3          3  344d114c-3736-4be5-98f7-c72c281e2d35   \n",
       "D90850                4          4  abfa2b40-2d43-4994-b15a-989b8c79e311   \n",
       "K662701               5          5  68a861fd-0d20-4e51-a587-8a90407ee574   \n",
       "...                 ...        ...                                   ...   \n",
       "M324793            9996       9996  45deb5a2-ae04-4518-bf0b-c82db8dbe4a4   \n",
       "D861732            9997       9997  6e96b921-0c09-4993-bbda-a1ac6411061a   \n",
       "I243405            9998       9998  e8307ddf-9a01-4fff-bc59-4742e03fd24f   \n",
       "I641617            9999       9999  3775ccfc-0052-4107-81ae-9657f81ecdf3   \n",
       "T38070            10000      10000  9de5fb6e-bd33-4995-aec8-f01d0172a499   \n",
       "\n",
       "                     City State                 County    Zip       Lat  \\\n",
       "Customer_id                                                               \n",
       "K409198       Point Baker    AK  Prince of Wales-Hyder  99927  56.25100   \n",
       "S120509       West Branch    MI                 Ogemaw  48661  44.32893   \n",
       "K191035           Yamhill    OR                Yamhill  97148  45.35589   \n",
       "D90850            Del Mar    CA              San Diego  92014  32.96687   \n",
       "K662701         Needville    TX              Fort Bend  77461  29.38012   \n",
       "...                   ...   ...                    ...    ...       ...   \n",
       "M324793       Mount Holly    VT                Rutland   5758  43.43391   \n",
       "D861732       Clarksville    TN             Montgomery  37042  36.56907   \n",
       "I243405          Mobeetie    TX                Wheeler  79061  35.52039   \n",
       "I641617        Carrollton    GA                Carroll  30117  33.58016   \n",
       "T38070       Clarkesville    GA              Habersham  30523  34.70783   \n",
       "\n",
       "                   Lng  Population  ... Bandwidth_GB_Year TimelyResponse  \\\n",
       "Customer_id                         ...                                    \n",
       "K409198     -133.37571          38  ...        904.536110              5   \n",
       "S120509      -84.24080       10446  ...        800.982766              3   \n",
       "K191035     -123.24657        3735  ...       2054.706961              4   \n",
       "D90850      -117.24798       13863  ...       2164.579412              4   \n",
       "K662701      -95.80673       11352  ...        271.493436              4   \n",
       "...                ...         ...  ...               ...            ...   \n",
       "M324793      -72.78734         640  ...       6511.253000              3   \n",
       "D861732      -87.41694       77168  ...       5695.952000              4   \n",
       "I243405     -100.44180         406  ...       4159.306000              4   \n",
       "I641617      -85.13241       35575  ...       6468.457000              4   \n",
       "T38070       -83.53648       12230  ...       5857.586000              2   \n",
       "\n",
       "            TimelyFixes  TimelyReplacements  Reliability Options TimelyFixes  \\\n",
       "Customer_id                                                                    \n",
       "K409198               5                   5            3       4           4   \n",
       "S120509               4                   3            3       4           3   \n",
       "K191035               4                   2            4       4           3   \n",
       "D90850                4                   4            2       5           4   \n",
       "K662701               4                   4            3       4           4   \n",
       "...                 ...                 ...          ...     ...         ...   \n",
       "M324793               2                   3            3       4           3   \n",
       "D861732               5                   5            4       4           5   \n",
       "I243405               4                   4            4       4           4   \n",
       "I641617               4                   6            4       3           3   \n",
       "T38070                2                   3            3       3           3   \n",
       "\n",
       "             CourteousExchange ActiveListening Z_Score_Income  \n",
       "Customer_id                                                    \n",
       "K409198                      3               4      -0.391731  \n",
       "S120509                      4               4      -0.668828  \n",
       "K191035                      3               3      -0.204845  \n",
       "D90850                       3               3      -0.781148  \n",
       "K662701                      4               5       0.073471  \n",
       "...                        ...             ...            ...  \n",
       "M324793                      2               3       0.705863  \n",
       "D861732                      2               5      -0.204845  \n",
       "I243405                      4               5      -0.204845  \n",
       "I641617                      5               4      -0.872379  \n",
       "T38070                       4               1      -0.204845  \n",
       "\n",
       "[10000 rows x 52 columns]"
      ]
     },
     "execution_count": 70,
     "metadata": {},
     "output_type": "execute_result"
    }
   ],
   "source": [
    "churndata.set_index('Customer_id')"
   ]
  },
  {
   "cell_type": "markdown",
   "id": "cb94e868",
   "metadata": {},
   "source": [
    "You can see that the index for the table is now Customer_id."
   ]
  },
  {
   "cell_type": "markdown",
   "id": "b0520ad4",
   "metadata": {},
   "source": [
    "## Remove Unnamed: 0 column from the database."
   ]
  },
  {
   "cell_type": "markdown",
   "id": "838cc64c",
   "metadata": {},
   "source": [
    "I tried to use the del command, but that didn't seem to work.  I then ended up using drop.   "
   ]
  },
  {
   "cell_type": "code",
   "execution_count": 71,
   "id": "8ad2ebb8",
   "metadata": {},
   "outputs": [],
   "source": [
    "churndata =  churndata.drop('Unnamed: 0', axis=1)"
   ]
  },
  {
   "cell_type": "code",
   "execution_count": 72,
   "id": "d8fd4a62",
   "metadata": {
    "scrolled": true
   },
   "outputs": [
    {
     "name": "stdout",
     "output_type": "stream",
     "text": [
      "<class 'pandas.core.frame.DataFrame'>\n",
      "RangeIndex: 10000 entries, 0 to 9999\n",
      "Data columns (total 52 columns):\n",
      " #   Column                Non-Null Count  Dtype  \n",
      "---  ------                --------------  -----  \n",
      " 0   CaseOrder             10000 non-null  int64  \n",
      " 1   Customer_id           10000 non-null  object \n",
      " 2   Interaction           10000 non-null  object \n",
      " 3   City                  10000 non-null  object \n",
      " 4   State                 10000 non-null  object \n",
      " 5   County                10000 non-null  object \n",
      " 6   Zip                   10000 non-null  int64  \n",
      " 7   Lat                   10000 non-null  float64\n",
      " 8   Lng                   10000 non-null  float64\n",
      " 9   Population            10000 non-null  int64  \n",
      " 10  Area                  10000 non-null  object \n",
      " 11  Timezone              10000 non-null  object \n",
      " 12  Job                   10000 non-null  object \n",
      " 13  Children              10000 non-null  float64\n",
      " 14  Age                   10000 non-null  float64\n",
      " 15  Education             10000 non-null  object \n",
      " 16  Employment            10000 non-null  object \n",
      " 17  Income                10000 non-null  float64\n",
      " 18  Marital               10000 non-null  object \n",
      " 19  Gender                10000 non-null  object \n",
      " 20  Churn                 10000 non-null  object \n",
      " 21  Outage_sec_perweek    10000 non-null  float64\n",
      " 22  Email                 10000 non-null  int64  \n",
      " 23  Contacts              10000 non-null  int64  \n",
      " 24  Yearly_equip_failure  10000 non-null  int64  \n",
      " 25  Techie                10000 non-null  object \n",
      " 26  Contract              10000 non-null  object \n",
      " 27  Port_modem            10000 non-null  object \n",
      " 28  Tablet                10000 non-null  object \n",
      " 29  InternetService       10000 non-null  object \n",
      " 30  Phone                 10000 non-null  object \n",
      " 31  Multiple              10000 non-null  object \n",
      " 32  OnlineSecurity        10000 non-null  object \n",
      " 33  OnlineBackup          10000 non-null  object \n",
      " 34  DeviceProtection      10000 non-null  object \n",
      " 35  TechSupport           10000 non-null  object \n",
      " 36  StreamingTV           10000 non-null  object \n",
      " 37  StreamingMovies       10000 non-null  object \n",
      " 38  PaperlessBilling      10000 non-null  object \n",
      " 39  PaymentMethod         10000 non-null  object \n",
      " 40  Tenure                10000 non-null  float64\n",
      " 41  MonthlyCharge         10000 non-null  float64\n",
      " 42  Bandwidth_GB_Year     10000 non-null  float64\n",
      " 43  TimelyResponse        10000 non-null  int64  \n",
      " 44  TimelyFixes           10000 non-null  int64  \n",
      " 45  TimelyReplacements    10000 non-null  int64  \n",
      " 46  Reliability           10000 non-null  int64  \n",
      " 47  Options               10000 non-null  int64  \n",
      " 48  TimelyFixes           10000 non-null  int64  \n",
      " 49  CourteousExchange     10000 non-null  int64  \n",
      " 50  ActiveListening       10000 non-null  int64  \n",
      " 51  Z_Score_Income        10000 non-null  float64\n",
      "dtypes: float64(10), int64(14), object(28)\n",
      "memory usage: 4.0+ MB\n"
     ]
    }
   ],
   "source": [
    "churndata.info()"
   ]
  },
  {
   "cell_type": "markdown",
   "id": "155534cb",
   "metadata": {},
   "source": [
    "### Update the table to include changes to mitigated anomolies."
   ]
  },
  {
   "cell_type": "code",
   "execution_count": 73,
   "id": "2adf392a",
   "metadata": {},
   "outputs": [],
   "source": [
    "churndata.to_csv('TreatedData.csv')"
   ]
  },
  {
   "cell_type": "markdown",
   "id": "784c6842",
   "metadata": {},
   "source": [
    "# Principle Component Analysis"
   ]
  },
  {
   "cell_type": "code",
   "execution_count": 74,
   "id": "e6ddfe35",
   "metadata": {},
   "outputs": [],
   "source": [
    "TreatedData = pd.read_csv('TreatedData.csv')"
   ]
  },
  {
   "cell_type": "markdown",
   "id": "86f80513",
   "metadata": {},
   "source": [
    "I will look at the following values:"
   ]
  },
  {
   "cell_type": "code",
   "execution_count": 75,
   "id": "42398543",
   "metadata": {
    "scrolled": false
   },
   "outputs": [],
   "source": [
    "PCAdata = TreatedData[['Bandwidth_GB_Year','Income','Children', 'Tenure']]\n"
   ]
  },
  {
   "cell_type": "code",
   "execution_count": 76,
   "id": "2ecc6dbd",
   "metadata": {},
   "outputs": [
    {
     "name": "stdout",
     "output_type": "stream",
     "text": [
      "<class 'pandas.core.frame.DataFrame'>\n",
      "RangeIndex: 10000 entries, 0 to 9999\n",
      "Data columns (total 4 columns):\n",
      " #   Column             Non-Null Count  Dtype  \n",
      "---  ------             --------------  -----  \n",
      " 0   Bandwidth_GB_Year  10000 non-null  float64\n",
      " 1   Income             10000 non-null  float64\n",
      " 2   Children           10000 non-null  float64\n",
      " 3   Tenure             10000 non-null  float64\n",
      "dtypes: float64(4)\n",
      "memory usage: 312.6 KB\n"
     ]
    }
   ],
   "source": [
    "PCAdata.info()"
   ]
  },
  {
   "cell_type": "code",
   "execution_count": 77,
   "id": "57200695",
   "metadata": {},
   "outputs": [],
   "source": [
    "PCAdata_normalized = (PCAdata-PCAdata.mean())/PCAdata.std()"
   ]
  },
  {
   "cell_type": "code",
   "execution_count": 78,
   "id": "3aa49e48",
   "metadata": {
    "scrolled": false
   },
   "outputs": [
    {
     "data": {
      "text/html": [
       "<div>\n",
       "<style scoped>\n",
       "    .dataframe tbody tr th:only-of-type {\n",
       "        vertical-align: middle;\n",
       "    }\n",
       "\n",
       "    .dataframe tbody tr th {\n",
       "        vertical-align: top;\n",
       "    }\n",
       "\n",
       "    .dataframe thead th {\n",
       "        text-align: right;\n",
       "    }\n",
       "</style>\n",
       "<table border=\"1\" class=\"dataframe\">\n",
       "  <thead>\n",
       "    <tr style=\"text-align: right;\">\n",
       "      <th></th>\n",
       "      <th>Bandwidth_GB_Year</th>\n",
       "      <th>Income</th>\n",
       "      <th>Children</th>\n",
       "      <th>Tenure</th>\n",
       "    </tr>\n",
       "  </thead>\n",
       "  <tbody>\n",
       "    <tr>\n",
       "      <th>0</th>\n",
       "      <td>-1.202590</td>\n",
       "      <td>-0.391712</td>\n",
       "      <td>-0.427057</td>\n",
       "      <td>-1.106364</td>\n",
       "    </tr>\n",
       "    <tr>\n",
       "      <th>1</th>\n",
       "      <td>-1.252550</td>\n",
       "      <td>-0.668795</td>\n",
       "      <td>-0.427057</td>\n",
       "      <td>-1.330280</td>\n",
       "    </tr>\n",
       "    <tr>\n",
       "      <th>2</th>\n",
       "      <td>-0.647681</td>\n",
       "      <td>-0.204835</td>\n",
       "      <td>1.130598</td>\n",
       "      <td>-0.750620</td>\n",
       "    </tr>\n",
       "    <tr>\n",
       "      <th>3</th>\n",
       "      <td>-0.594672</td>\n",
       "      <td>-0.781109</td>\n",
       "      <td>-0.427057</td>\n",
       "      <td>-0.697684</td>\n",
       "    </tr>\n",
       "    <tr>\n",
       "      <th>4</th>\n",
       "      <td>-1.508006</td>\n",
       "      <td>0.073468</td>\n",
       "      <td>-0.946276</td>\n",
       "      <td>-1.309857</td>\n",
       "    </tr>\n",
       "    <tr>\n",
       "      <th>...</th>\n",
       "      <td>...</td>\n",
       "      <td>...</td>\n",
       "      <td>...</td>\n",
       "      <td>...</td>\n",
       "    </tr>\n",
       "    <tr>\n",
       "      <th>9995</th>\n",
       "      <td>1.502417</td>\n",
       "      <td>0.705827</td>\n",
       "      <td>0.611380</td>\n",
       "      <td>1.331871</td>\n",
       "    </tr>\n",
       "    <tr>\n",
       "      <th>9996</th>\n",
       "      <td>1.109068</td>\n",
       "      <td>-0.204835</td>\n",
       "      <td>1.130598</td>\n",
       "      <td>1.047679</td>\n",
       "    </tr>\n",
       "    <tr>\n",
       "      <th>9997</th>\n",
       "      <td>0.367700</td>\n",
       "      <td>-0.204835</td>\n",
       "      <td>-0.427057</td>\n",
       "      <td>0.061120</td>\n",
       "    </tr>\n",
       "    <tr>\n",
       "      <th>9998</th>\n",
       "      <td>1.481769</td>\n",
       "      <td>-0.872335</td>\n",
       "      <td>-0.427057</td>\n",
       "      <td>1.446968</td>\n",
       "    </tr>\n",
       "    <tr>\n",
       "      <th>9999</th>\n",
       "      <td>1.187050</td>\n",
       "      <td>-0.204835</td>\n",
       "      <td>-0.427057</td>\n",
       "      <td>1.139428</td>\n",
       "    </tr>\n",
       "  </tbody>\n",
       "</table>\n",
       "<p>10000 rows × 4 columns</p>\n",
       "</div>"
      ],
      "text/plain": [
       "      Bandwidth_GB_Year    Income  Children    Tenure\n",
       "0             -1.202590 -0.391712 -0.427057 -1.106364\n",
       "1             -1.252550 -0.668795 -0.427057 -1.330280\n",
       "2             -0.647681 -0.204835  1.130598 -0.750620\n",
       "3             -0.594672 -0.781109 -0.427057 -0.697684\n",
       "4             -1.508006  0.073468 -0.946276 -1.309857\n",
       "...                 ...       ...       ...       ...\n",
       "9995           1.502417  0.705827  0.611380  1.331871\n",
       "9996           1.109068 -0.204835  1.130598  1.047679\n",
       "9997           0.367700 -0.204835 -0.427057  0.061120\n",
       "9998           1.481769 -0.872335 -0.427057  1.446968\n",
       "9999           1.187050 -0.204835 -0.427057  1.139428\n",
       "\n",
       "[10000 rows x 4 columns]"
      ]
     },
     "execution_count": 78,
     "metadata": {},
     "output_type": "execute_result"
    }
   ],
   "source": [
    "PCAdata_normalized"
   ]
  },
  {
   "cell_type": "code",
   "execution_count": 79,
   "id": "acd584fe",
   "metadata": {},
   "outputs": [],
   "source": [
    "pca = PCA(n_components=PCAdata.shape[1])"
   ]
  },
  {
   "cell_type": "code",
   "execution_count": 80,
   "id": "78751809",
   "metadata": {
    "scrolled": true
   },
   "outputs": [
    {
     "data": {
      "text/html": [
       "<style>#sk-container-id-1 {color: black;background-color: white;}#sk-container-id-1 pre{padding: 0;}#sk-container-id-1 div.sk-toggleable {background-color: white;}#sk-container-id-1 label.sk-toggleable__label {cursor: pointer;display: block;width: 100%;margin-bottom: 0;padding: 0.3em;box-sizing: border-box;text-align: center;}#sk-container-id-1 label.sk-toggleable__label-arrow:before {content: \"▸\";float: left;margin-right: 0.25em;color: #696969;}#sk-container-id-1 label.sk-toggleable__label-arrow:hover:before {color: black;}#sk-container-id-1 div.sk-estimator:hover label.sk-toggleable__label-arrow:before {color: black;}#sk-container-id-1 div.sk-toggleable__content {max-height: 0;max-width: 0;overflow: hidden;text-align: left;background-color: #f0f8ff;}#sk-container-id-1 div.sk-toggleable__content pre {margin: 0.2em;color: black;border-radius: 0.25em;background-color: #f0f8ff;}#sk-container-id-1 input.sk-toggleable__control:checked~div.sk-toggleable__content {max-height: 200px;max-width: 100%;overflow: auto;}#sk-container-id-1 input.sk-toggleable__control:checked~label.sk-toggleable__label-arrow:before {content: \"▾\";}#sk-container-id-1 div.sk-estimator input.sk-toggleable__control:checked~label.sk-toggleable__label {background-color: #d4ebff;}#sk-container-id-1 div.sk-label input.sk-toggleable__control:checked~label.sk-toggleable__label {background-color: #d4ebff;}#sk-container-id-1 input.sk-hidden--visually {border: 0;clip: rect(1px 1px 1px 1px);clip: rect(1px, 1px, 1px, 1px);height: 1px;margin: -1px;overflow: hidden;padding: 0;position: absolute;width: 1px;}#sk-container-id-1 div.sk-estimator {font-family: monospace;background-color: #f0f8ff;border: 1px dotted black;border-radius: 0.25em;box-sizing: border-box;margin-bottom: 0.5em;}#sk-container-id-1 div.sk-estimator:hover {background-color: #d4ebff;}#sk-container-id-1 div.sk-parallel-item::after {content: \"\";width: 100%;border-bottom: 1px solid gray;flex-grow: 1;}#sk-container-id-1 div.sk-label:hover label.sk-toggleable__label {background-color: #d4ebff;}#sk-container-id-1 div.sk-serial::before {content: \"\";position: absolute;border-left: 1px solid gray;box-sizing: border-box;top: 0;bottom: 0;left: 50%;z-index: 0;}#sk-container-id-1 div.sk-serial {display: flex;flex-direction: column;align-items: center;background-color: white;padding-right: 0.2em;padding-left: 0.2em;position: relative;}#sk-container-id-1 div.sk-item {position: relative;z-index: 1;}#sk-container-id-1 div.sk-parallel {display: flex;align-items: stretch;justify-content: center;background-color: white;position: relative;}#sk-container-id-1 div.sk-item::before, #sk-container-id-1 div.sk-parallel-item::before {content: \"\";position: absolute;border-left: 1px solid gray;box-sizing: border-box;top: 0;bottom: 0;left: 50%;z-index: -1;}#sk-container-id-1 div.sk-parallel-item {display: flex;flex-direction: column;z-index: 1;position: relative;background-color: white;}#sk-container-id-1 div.sk-parallel-item:first-child::after {align-self: flex-end;width: 50%;}#sk-container-id-1 div.sk-parallel-item:last-child::after {align-self: flex-start;width: 50%;}#sk-container-id-1 div.sk-parallel-item:only-child::after {width: 0;}#sk-container-id-1 div.sk-dashed-wrapped {border: 1px dashed gray;margin: 0 0.4em 0.5em 0.4em;box-sizing: border-box;padding-bottom: 0.4em;background-color: white;}#sk-container-id-1 div.sk-label label {font-family: monospace;font-weight: bold;display: inline-block;line-height: 1.2em;}#sk-container-id-1 div.sk-label-container {text-align: center;}#sk-container-id-1 div.sk-container {/* jupyter's `normalize.less` sets `[hidden] { display: none; }` but bootstrap.min.css set `[hidden] { display: none !important; }` so we also need the `!important` here to be able to override the default hidden behavior on the sphinx rendered scikit-learn.org. See: https://github.com/scikit-learn/scikit-learn/issues/21755 */display: inline-block !important;position: relative;}#sk-container-id-1 div.sk-text-repr-fallback {display: none;}</style><div id=\"sk-container-id-1\" class=\"sk-top-container\"><div class=\"sk-text-repr-fallback\"><pre>PCA(n_components=4)</pre><b>In a Jupyter environment, please rerun this cell to show the HTML representation or trust the notebook. <br />On GitHub, the HTML representation is unable to render, please try loading this page with nbviewer.org.</b></div><div class=\"sk-container\" hidden><div class=\"sk-item\"><div class=\"sk-estimator sk-toggleable\"><input class=\"sk-toggleable__control sk-hidden--visually\" id=\"sk-estimator-id-1\" type=\"checkbox\" checked><label for=\"sk-estimator-id-1\" class=\"sk-toggleable__label sk-toggleable__label-arrow\">PCA</label><div class=\"sk-toggleable__content\"><pre>PCA(n_components=4)</pre></div></div></div></div></div>"
      ],
      "text/plain": [
       "PCA(n_components=4)"
      ]
     },
     "execution_count": 80,
     "metadata": {},
     "output_type": "execute_result"
    }
   ],
   "source": [
    "pca"
   ]
  },
  {
   "cell_type": "code",
   "execution_count": 81,
   "id": "cadf495b",
   "metadata": {},
   "outputs": [
    {
     "data": {
      "text/html": [
       "<style>#sk-container-id-2 {color: black;background-color: white;}#sk-container-id-2 pre{padding: 0;}#sk-container-id-2 div.sk-toggleable {background-color: white;}#sk-container-id-2 label.sk-toggleable__label {cursor: pointer;display: block;width: 100%;margin-bottom: 0;padding: 0.3em;box-sizing: border-box;text-align: center;}#sk-container-id-2 label.sk-toggleable__label-arrow:before {content: \"▸\";float: left;margin-right: 0.25em;color: #696969;}#sk-container-id-2 label.sk-toggleable__label-arrow:hover:before {color: black;}#sk-container-id-2 div.sk-estimator:hover label.sk-toggleable__label-arrow:before {color: black;}#sk-container-id-2 div.sk-toggleable__content {max-height: 0;max-width: 0;overflow: hidden;text-align: left;background-color: #f0f8ff;}#sk-container-id-2 div.sk-toggleable__content pre {margin: 0.2em;color: black;border-radius: 0.25em;background-color: #f0f8ff;}#sk-container-id-2 input.sk-toggleable__control:checked~div.sk-toggleable__content {max-height: 200px;max-width: 100%;overflow: auto;}#sk-container-id-2 input.sk-toggleable__control:checked~label.sk-toggleable__label-arrow:before {content: \"▾\";}#sk-container-id-2 div.sk-estimator input.sk-toggleable__control:checked~label.sk-toggleable__label {background-color: #d4ebff;}#sk-container-id-2 div.sk-label input.sk-toggleable__control:checked~label.sk-toggleable__label {background-color: #d4ebff;}#sk-container-id-2 input.sk-hidden--visually {border: 0;clip: rect(1px 1px 1px 1px);clip: rect(1px, 1px, 1px, 1px);height: 1px;margin: -1px;overflow: hidden;padding: 0;position: absolute;width: 1px;}#sk-container-id-2 div.sk-estimator {font-family: monospace;background-color: #f0f8ff;border: 1px dotted black;border-radius: 0.25em;box-sizing: border-box;margin-bottom: 0.5em;}#sk-container-id-2 div.sk-estimator:hover {background-color: #d4ebff;}#sk-container-id-2 div.sk-parallel-item::after {content: \"\";width: 100%;border-bottom: 1px solid gray;flex-grow: 1;}#sk-container-id-2 div.sk-label:hover label.sk-toggleable__label {background-color: #d4ebff;}#sk-container-id-2 div.sk-serial::before {content: \"\";position: absolute;border-left: 1px solid gray;box-sizing: border-box;top: 0;bottom: 0;left: 50%;z-index: 0;}#sk-container-id-2 div.sk-serial {display: flex;flex-direction: column;align-items: center;background-color: white;padding-right: 0.2em;padding-left: 0.2em;position: relative;}#sk-container-id-2 div.sk-item {position: relative;z-index: 1;}#sk-container-id-2 div.sk-parallel {display: flex;align-items: stretch;justify-content: center;background-color: white;position: relative;}#sk-container-id-2 div.sk-item::before, #sk-container-id-2 div.sk-parallel-item::before {content: \"\";position: absolute;border-left: 1px solid gray;box-sizing: border-box;top: 0;bottom: 0;left: 50%;z-index: -1;}#sk-container-id-2 div.sk-parallel-item {display: flex;flex-direction: column;z-index: 1;position: relative;background-color: white;}#sk-container-id-2 div.sk-parallel-item:first-child::after {align-self: flex-end;width: 50%;}#sk-container-id-2 div.sk-parallel-item:last-child::after {align-self: flex-start;width: 50%;}#sk-container-id-2 div.sk-parallel-item:only-child::after {width: 0;}#sk-container-id-2 div.sk-dashed-wrapped {border: 1px dashed gray;margin: 0 0.4em 0.5em 0.4em;box-sizing: border-box;padding-bottom: 0.4em;background-color: white;}#sk-container-id-2 div.sk-label label {font-family: monospace;font-weight: bold;display: inline-block;line-height: 1.2em;}#sk-container-id-2 div.sk-label-container {text-align: center;}#sk-container-id-2 div.sk-container {/* jupyter's `normalize.less` sets `[hidden] { display: none; }` but bootstrap.min.css set `[hidden] { display: none !important; }` so we also need the `!important` here to be able to override the default hidden behavior on the sphinx rendered scikit-learn.org. See: https://github.com/scikit-learn/scikit-learn/issues/21755 */display: inline-block !important;position: relative;}#sk-container-id-2 div.sk-text-repr-fallback {display: none;}</style><div id=\"sk-container-id-2\" class=\"sk-top-container\"><div class=\"sk-text-repr-fallback\"><pre>PCA(n_components=4)</pre><b>In a Jupyter environment, please rerun this cell to show the HTML representation or trust the notebook. <br />On GitHub, the HTML representation is unable to render, please try loading this page with nbviewer.org.</b></div><div class=\"sk-container\" hidden><div class=\"sk-item\"><div class=\"sk-estimator sk-toggleable\"><input class=\"sk-toggleable__control sk-hidden--visually\" id=\"sk-estimator-id-2\" type=\"checkbox\" checked><label for=\"sk-estimator-id-2\" class=\"sk-toggleable__label sk-toggleable__label-arrow\">PCA</label><div class=\"sk-toggleable__content\"><pre>PCA(n_components=4)</pre></div></div></div></div></div>"
      ],
      "text/plain": [
       "PCA(n_components=4)"
      ]
     },
     "execution_count": 81,
     "metadata": {},
     "output_type": "execute_result"
    }
   ],
   "source": [
    "pca.fit(PCAdata_normalized)"
   ]
  },
  {
   "cell_type": "code",
   "execution_count": 82,
   "id": "98e26cfb",
   "metadata": {},
   "outputs": [],
   "source": [
    "PCAdata2 = pd.DataFrame(pca.transform(PCAdata_normalized),columns=['PC1', 'PC2', 'PC3', 'PC4'])"
   ]
  },
  {
   "cell_type": "markdown",
   "id": "7c199a01",
   "metadata": {},
   "source": [
    "## PCA Loading Matrix"
   ]
  },
  {
   "cell_type": "code",
   "execution_count": 83,
   "id": "508051fb",
   "metadata": {
    "scrolled": true
   },
   "outputs": [
    {
     "data": {
      "text/html": [
       "<div>\n",
       "<style scoped>\n",
       "    .dataframe tbody tr th:only-of-type {\n",
       "        vertical-align: middle;\n",
       "    }\n",
       "\n",
       "    .dataframe tbody tr th {\n",
       "        vertical-align: top;\n",
       "    }\n",
       "\n",
       "    .dataframe thead th {\n",
       "        text-align: right;\n",
       "    }\n",
       "</style>\n",
       "<table border=\"1\" class=\"dataframe\">\n",
       "  <thead>\n",
       "    <tr style=\"text-align: right;\">\n",
       "      <th></th>\n",
       "      <th>PC1</th>\n",
       "      <th>PC2</th>\n",
       "      <th>PC3</th>\n",
       "      <th>PC4</th>\n",
       "    </tr>\n",
       "  </thead>\n",
       "  <tbody>\n",
       "    <tr>\n",
       "      <th>Bandwidth_GB_Year</th>\n",
       "      <td>0.707074</td>\n",
       "      <td>0.006826</td>\n",
       "      <td>-0.014226</td>\n",
       "      <td>0.706963</td>\n",
       "    </tr>\n",
       "    <tr>\n",
       "      <th>Income</th>\n",
       "      <td>0.006109</td>\n",
       "      <td>0.702406</td>\n",
       "      <td>0.711749</td>\n",
       "      <td>0.001431</td>\n",
       "    </tr>\n",
       "    <tr>\n",
       "      <th>Children</th>\n",
       "      <td>-0.002253</td>\n",
       "      <td>0.711664</td>\n",
       "      <td>-0.702266</td>\n",
       "      <td>-0.018750</td>\n",
       "    </tr>\n",
       "    <tr>\n",
       "      <th>Tenure</th>\n",
       "      <td>0.707109</td>\n",
       "      <td>-0.010627</td>\n",
       "      <td>0.005839</td>\n",
       "      <td>-0.707000</td>\n",
       "    </tr>\n",
       "  </tbody>\n",
       "</table>\n",
       "</div>"
      ],
      "text/plain": [
       "                        PC1       PC2       PC3       PC4\n",
       "Bandwidth_GB_Year  0.707074  0.006826 -0.014226  0.706963\n",
       "Income             0.006109  0.702406  0.711749  0.001431\n",
       "Children          -0.002253  0.711664 -0.702266 -0.018750\n",
       "Tenure             0.707109 -0.010627  0.005839 -0.707000"
      ]
     },
     "execution_count": 83,
     "metadata": {},
     "output_type": "execute_result"
    }
   ],
   "source": [
    "loadings = pd.DataFrame(pca.components_.T,\n",
    "columns=['PC1','PC2','PC3','PC4'],\n",
    "index=PCAdata_normalized.columns)\n",
    "loadings"
   ]
  },
  {
   "cell_type": "markdown",
   "id": "a4932598",
   "metadata": {},
   "source": [
    "## Selecting the PCs"
   ]
  },
  {
   "cell_type": "code",
   "execution_count": 84,
   "id": "894a6501",
   "metadata": {},
   "outputs": [],
   "source": [
    "cov_matrix=np.dot(PCAdata_normalized.T, PCAdata_normalized/PCAdata.shape[0])"
   ]
  },
  {
   "cell_type": "code",
   "execution_count": 85,
   "id": "0f5b841c",
   "metadata": {},
   "outputs": [],
   "source": [
    "eigenvalues= [np.dot(eigenvector.T,np.dot(cov_matrix,eigenvector)) for eigenvector in pca.components_]"
   ]
  },
  {
   "cell_type": "code",
   "execution_count": 86,
   "id": "573ceb60",
   "metadata": {},
   "outputs": [
    {
     "data": {
      "image/png": "[encoded data removed]",
      "text/plain": [
       "<Figure size 640x480 with 1 Axes>"
      ]
     },
     "metadata": {},
     "output_type": "display_data"
    }
   ],
   "source": [
    " \n",
    "import matplotlib.pyplot as plt\n",
    "\n",
    "import seaborn as sns\n",
    "from sklearn.decomposition import PCA\n",
    " \n",
    "\n",
    "plt.plot(eigenvalues)\n",
    "plt.xlabel('number of components')\n",
    "plt.ylabel('eigenvalues')\n",
    "plt.axhline(y=1,color=\"red\")\n",
    "plt.show()"
   ]
  },
  {
   "cell_type": "code",
   "execution_count": null,
   "id": "e15c5992",
   "metadata": {},
   "outputs": [],
   "source": [
    "\n"
   ]
  }
 ],
 "metadata": {
  "kernelspec": {
   "display_name": "Python 3 (ipykernel)",
   "language": "python",
   "name": "python3"
  },
  "language_info": {
   "codemirror_mode": {
    "name": "ipython",
    "version": 3
   },
   "file_extension": ".py",
   "mimetype": "text/x-python",
   "name": "python",
   "nbconvert_exporter": "python",
   "pygments_lexer": "ipython3",
   "version": "3.9.13"
  }
 },
 "nbformat": 4,
 "nbformat_minor": 5
}
